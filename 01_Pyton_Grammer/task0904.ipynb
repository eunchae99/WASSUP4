{
 "cells": [
  {
   "cell_type": "markdown",
   "id": "2ff541f0-affb-4dee-83fe-01dd31ab318e",
   "metadata": {},
   "source": [
    "# 1. 파이썬 시작하기 (1~10)"
   ]
  },
  {
   "cell_type": "code",
   "execution_count": 1,
   "id": "9b59b3b6-9ca4-4ef3-9808-5b49cc95da3b",
   "metadata": {},
   "outputs": [
    {
     "name": "stdout",
     "output_type": "stream",
     "text": [
      "Hello World\n"
     ]
    }
   ],
   "source": [
    "# 1\n",
    "print('Hello World')"
   ]
  },
  {
   "cell_type": "code",
   "execution_count": 3,
   "id": "62f358e8-6a86-4c74-bf79-0c2ca92cfe5d",
   "metadata": {},
   "outputs": [
    {
     "name": "stdout",
     "output_type": "stream",
     "text": [
      "Mary's cosmetics\n"
     ]
    }
   ],
   "source": [
    "# 2\n",
    "print(\"Mary's cosmetics\")"
   ]
  },
  {
   "cell_type": "code",
   "execution_count": 5,
   "id": "1af56f62-ac32-42fb-b278-d4b6cae06e62",
   "metadata": {},
   "outputs": [
    {
     "name": "stdout",
     "output_type": "stream",
     "text": [
      "신씨가 소리질렀다. \"도둑이야\".\n"
     ]
    }
   ],
   "source": [
    "# 3\n",
    "print('신씨가 소리질렀다. \"도둑이야\".')"
   ]
  },
  {
   "cell_type": "code",
   "execution_count": 12,
   "id": "9ea08aa1-e908-4898-871f-c3870b1ef4d3",
   "metadata": {},
   "outputs": [
    {
     "name": "stdout",
     "output_type": "stream",
     "text": [
      "C:\\Windows\n"
     ]
    },
    {
     "name": "stderr",
     "output_type": "stream",
     "text": [
      "<>:2: SyntaxWarning: invalid escape sequence '\\W'\n",
      "<>:2: SyntaxWarning: invalid escape sequence '\\W'\n",
      "C:\\Users\\user\\AppData\\Local\\Temp\\ipykernel_9548\\926811910.py:2: SyntaxWarning: invalid escape sequence '\\W'\n",
      "  print(\"C:\\Windows\")\n"
     ]
    }
   ],
   "source": [
    "# 4\n",
    "print(\"C:\\Windows\")"
   ]
  },
  {
   "cell_type": "code",
   "execution_count": 14,
   "id": "821d4a15-312e-4c3b-b0e6-062c292ce32b",
   "metadata": {},
   "outputs": [
    {
     "name": "stdout",
     "output_type": "stream",
     "text": [
      "안녕하세요.\n",
      "만나서\t\t반갑습니다.\n"
     ]
    }
   ],
   "source": [
    "# 5\n",
    "print(\"안녕하세요.\\n만나서\\t\\t반갑습니다.\")"
   ]
  },
  {
   "cell_type": "code",
   "execution_count": null,
   "id": "d6260fae-4c50-4756-84e8-42ae3e6c7b03",
   "metadata": {},
   "outputs": [],
   "source": [
    "\\n 줄바꿈\n",
    "\\t 탭"
   ]
  },
  {
   "cell_type": "code",
   "execution_count": null,
   "id": "d8e9667f-cb68-42a0-874e-258b1c521384",
   "metadata": {},
   "outputs": [],
   "source": [
    "# 6\n",
    "오늘은 일요일"
   ]
  },
  {
   "cell_type": "code",
   "execution_count": 16,
   "id": "ccd5ad4f-dedf-4dfb-9ff5-7a7ff182c292",
   "metadata": {},
   "outputs": [
    {
     "name": "stdout",
     "output_type": "stream",
     "text": [
      "오늘은 일요일\n"
     ]
    }
   ],
   "source": [
    "print (\"오늘은\", \"일요일\")"
   ]
  },
  {
   "cell_type": "code",
   "execution_count": 18,
   "id": "88d78d31-b07d-42bd-93ca-42aec20c448c",
   "metadata": {},
   "outputs": [
    {
     "name": "stdout",
     "output_type": "stream",
     "text": [
      "naver;kakao;sk;samsung\n"
     ]
    }
   ],
   "source": [
    "# 7\n",
    "print(\"naver;kakao;sk;samsung\")"
   ]
  },
  {
   "cell_type": "code",
   "execution_count": 20,
   "id": "248e56be-44ef-4016-b142-0ece5d7e494c",
   "metadata": {},
   "outputs": [
    {
     "name": "stdout",
     "output_type": "stream",
     "text": [
      "naver/kakao/sk/samsung\n"
     ]
    }
   ],
   "source": [
    "# 8\n",
    "print(\"naver/kakao/sk/samsung\")"
   ]
  },
  {
   "cell_type": "code",
   "execution_count": 22,
   "id": "56f006fa-4b08-4a1e-9363-b242b3c5587a",
   "metadata": {},
   "outputs": [
    {
     "name": "stdout",
     "output_type": "stream",
     "text": [
      "firstsecond\n"
     ]
    }
   ],
   "source": [
    "# 9 **\n",
    "print(\"first\", end=\"\"); print(\"second\")"
   ]
  },
  {
   "cell_type": "code",
   "execution_count": 24,
   "id": "4ea73061-3f4c-403b-aec6-14362938e6bb",
   "metadata": {},
   "outputs": [
    {
     "name": "stdout",
     "output_type": "stream",
     "text": [
      "1.6666666666666667\n"
     ]
    }
   ],
   "source": [
    "# 10\n",
    "print(5/3)"
   ]
  },
  {
   "cell_type": "markdown",
   "id": "74d38d92-7e89-406f-9fab-478f573373c3",
   "metadata": {},
   "source": [
    "# 2. 파이썬 변수 (11~20)"
   ]
  },
  {
   "cell_type": "code",
   "execution_count": 30,
   "id": "ad230826-f962-41d0-bfe6-a997f6555903",
   "metadata": {},
   "outputs": [
    {
     "name": "stdout",
     "output_type": "stream",
     "text": [
      "500000\n"
     ]
    }
   ],
   "source": [
    "# 11\n",
    "삼성전자 = 50000\n",
    "총평가금액 = 삼성전자 * 10\n",
    "print(총평가금액)"
   ]
  },
  {
   "cell_type": "code",
   "execution_count": 32,
   "id": "da90ddf7-38f9-48b3-b0bc-fc4182ac11fa",
   "metadata": {},
   "outputs": [
    {
     "name": "stdout",
     "output_type": "stream",
     "text": [
      "298000000000000 <class 'int'>\n",
      "50000 <class 'int'>\n",
      "15.79 <class 'float'>\n"
     ]
    }
   ],
   "source": [
    "# 12 **\n",
    "시가총액 = 298000000000000\n",
    "현재가 = 50000\n",
    "PER = 15.79\n",
    "print(시가총액, type(시가총액))\n",
    "print(현재가, type(현재가))\n",
    "print(PER, type(PER))"
   ]
  },
  {
   "cell_type": "code",
   "execution_count": 34,
   "id": "fb5e2a7f-a158-4705-8858-30cdc21b098c",
   "metadata": {},
   "outputs": [
    {
     "name": "stdout",
     "output_type": "stream",
     "text": [
      "hello! python\n"
     ]
    }
   ],
   "source": [
    "# 13\n",
    "s = \"hello\"\n",
    "t = \"python\"\n",
    "print(s+'!', t)"
   ]
  },
  {
   "cell_type": "code",
   "execution_count": null,
   "id": "230f5b37-e013-433f-bba6-4932256914fa",
   "metadata": {},
   "outputs": [],
   "source": [
    "# 14\n",
    "8"
   ]
  },
  {
   "cell_type": "code",
   "execution_count": 36,
   "id": "84152ddd-dd2a-4c41-a1e0-fbdd4c98f2ec",
   "metadata": {},
   "outputs": [
    {
     "data": {
      "text/plain": [
       "8"
      ]
     },
     "execution_count": 36,
     "metadata": {},
     "output_type": "execute_result"
    }
   ],
   "source": [
    "2+2*3"
   ]
  },
  {
   "cell_type": "code",
   "execution_count": 40,
   "id": "37717d84-666e-4e0a-97ff-295abde5d0ba",
   "metadata": {},
   "outputs": [
    {
     "name": "stdout",
     "output_type": "stream",
     "text": [
      "<class 'str'>\n"
     ]
    }
   ],
   "source": [
    "# 15\n",
    "a = \"132\"\n",
    "print(type(a))"
   ]
  },
  {
   "cell_type": "code",
   "execution_count": 44,
   "id": "50cbe426-a916-4f96-af3a-eb4effe74468",
   "metadata": {},
   "outputs": [
    {
     "name": "stdout",
     "output_type": "stream",
     "text": [
      "721 <class 'int'>\n"
     ]
    }
   ],
   "source": [
    "# 16 **\n",
    "num_str = \"720\"  #형변환\n",
    "num_int = int(num_str)\n",
    "print(num_int+1, type(num_int))"
   ]
  },
  {
   "cell_type": "code",
   "execution_count": 46,
   "id": "9e4695fe-2382-46f0-b7c7-d69f01eb1a95",
   "metadata": {},
   "outputs": [
    {
     "name": "stdout",
     "output_type": "stream",
     "text": [
      "100 <class 'str'>\n"
     ]
    }
   ],
   "source": [
    "# 17 **\n",
    "num = 100\n",
    "result = str(num)\n",
    "print(result, type(result))"
   ]
  },
  {
   "cell_type": "code",
   "execution_count": 50,
   "id": "41f44c5c-544f-457f-aa0f-4daea6e74a5f",
   "metadata": {},
   "outputs": [
    {
     "name": "stdout",
     "output_type": "stream",
     "text": [
      "15.79 <class 'float'>\n"
     ]
    }
   ],
   "source": [
    "# 18 **\n",
    "data = \"15.79\"\n",
    "data = float(data)\n",
    "print(data, type(data))"
   ]
  },
  {
   "cell_type": "code",
   "execution_count": 52,
   "id": "6a7022a9-5b22-4116-8b0b-dc9c5b5f31d3",
   "metadata": {},
   "outputs": [
    {
     "name": "stdout",
     "output_type": "stream",
     "text": [
      "2017\n",
      "2018\n",
      "2019\n"
     ]
    }
   ],
   "source": [
    "# 19\n",
    "year = \"2020\"\n",
    "print(int(year)-3)\n",
    "print(int(year)-2)  \n",
    "print(int(year)-1)"
   ]
  },
  {
   "cell_type": "code",
   "execution_count": 54,
   "id": "46c147e8-cda7-4dad-93f0-537df8420c6c",
   "metadata": {},
   "outputs": [
    {
     "data": {
      "text/plain": [
       "1749024"
      ]
     },
     "execution_count": 54,
     "metadata": {},
     "output_type": "execute_result"
    }
   ],
   "source": [
    "# 20\n",
    "월 = 48584\n",
    "총금액 = 48584 * 36\n",
    "총금액"
   ]
  },
  {
   "cell_type": "markdown",
   "id": "0c7d89d2-708f-4564-a83a-3a5603ebec3a",
   "metadata": {},
   "source": [
    "# 3. 파이썬 문자열 (21~50)"
   ]
  },
  {
   "cell_type": "code",
   "execution_count": 67,
   "id": "a56c2171-cf73-44c3-bbb8-2f2a9acdb0d1",
   "metadata": {},
   "outputs": [
    {
     "data": {
      "text/plain": [
       "('p', 't')"
      ]
     },
     "execution_count": 67,
     "metadata": {},
     "output_type": "execute_result"
    }
   ],
   "source": [
    "# 21\n",
    "letters = 'python'\n",
    "letters[0], letters[2]"
   ]
  },
  {
   "cell_type": "code",
   "execution_count": 69,
   "id": "4dc0929f-6a7e-4a37-9ea8-7e5e533998a0",
   "metadata": {},
   "outputs": [
    {
     "name": "stdout",
     "output_type": "stream",
     "text": [
      "p t\n"
     ]
    }
   ],
   "source": [
    "letters = 'python'\n",
    "print(letters[0], letters[2])"
   ]
  },
  {
   "cell_type": "code",
   "execution_count": 71,
   "id": "4cea0dd1-1c4d-410c-91a3-7356ef414de6",
   "metadata": {},
   "outputs": [
    {
     "name": "stdout",
     "output_type": "stream",
     "text": [
      "2210\n"
     ]
    }
   ],
   "source": [
    "# 22\n",
    "license_plate = \"24가 2210\"\n",
    "print(license_plate[4:8])"
   ]
  },
  {
   "cell_type": "code",
   "execution_count": 73,
   "id": "3d6f8cf5-5553-409d-8f97-b3e17f675fb9",
   "metadata": {},
   "outputs": [
    {
     "data": {
      "text/plain": [
       "'2210'"
      ]
     },
     "execution_count": 73,
     "metadata": {},
     "output_type": "execute_result"
    }
   ],
   "source": [
    "license_plate = \"24가 2210\"\n",
    "license_plate[4:8]"
   ]
  },
  {
   "cell_type": "code",
   "execution_count": 77,
   "id": "368edd31-5119-464e-b0a2-c6f2a8d9e248",
   "metadata": {},
   "outputs": [
    {
     "name": "stdout",
     "output_type": "stream",
     "text": [
      "2210\n"
     ]
    }
   ],
   "source": [
    "license_plate = \"24가 2210\"\n",
    "print(license_plate[-4:])"
   ]
  },
  {
   "cell_type": "code",
   "execution_count": 80,
   "id": "fe1704e2-8ea0-42d7-a9fb-8eb0f38678b4",
   "metadata": {},
   "outputs": [
    {
     "name": "stdout",
     "output_type": "stream",
     "text": [
      "홀 홀 홀\n"
     ]
    }
   ],
   "source": [
    "# 23\n",
    "string = \"홀짝홀짝홀짝\"\n",
    "print(string[0], string[2], string[4])"
   ]
  },
  {
   "cell_type": "code",
   "execution_count": 82,
   "id": "c6c0eb1c-e28a-4c19-8f59-48d44f92fe5e",
   "metadata": {},
   "outputs": [
    {
     "name": "stdout",
     "output_type": "stream",
     "text": [
      "홀홀홀\n"
     ]
    }
   ],
   "source": [
    "string = \"홀짝홀짝홀짝\"\n",
    "print(string[::2])"
   ]
  },
  {
   "cell_type": "code",
   "execution_count": 3,
   "id": "acdc313f-cf26-4c26-bd84-bec4c44a1692",
   "metadata": {},
   "outputs": [
    {
     "name": "stdout",
     "output_type": "stream",
     "text": [
      "NOHTYP\n"
     ]
    }
   ],
   "source": [
    "# 24\n",
    "string = \"PYTHON\"\n",
    "print(string[::-1])"
   ]
  },
  {
   "cell_type": "code",
   "execution_count": 5,
   "id": "66257288-3e8e-4cd3-9be2-56a76e51bd53",
   "metadata": {},
   "outputs": [
    {
     "name": "stdout",
     "output_type": "stream",
     "text": [
      "010 1111 2222\n"
     ]
    }
   ],
   "source": [
    "# 25\n",
    "phone_number = \"010-1111-2222\"\n",
    "print(phone_number[:3], phone_number[4:8], phone_number[-4:])"
   ]
  },
  {
   "cell_type": "code",
   "execution_count": 7,
   "id": "4f9218e0-c832-4072-acea-a6615a110cf7",
   "metadata": {},
   "outputs": [
    {
     "name": "stdout",
     "output_type": "stream",
     "text": [
      "010 1111 2222\n"
     ]
    }
   ],
   "source": [
    "phone_number = \"010-1111-2222\"\n",
    "a = phone_number.replace(\"-\", \" \")\n",
    "print(a)"
   ]
  },
  {
   "cell_type": "code",
   "execution_count": 9,
   "id": "50854f15-31a5-4e65-9922-4831415c0c4a",
   "metadata": {},
   "outputs": [
    {
     "name": "stdout",
     "output_type": "stream",
     "text": [
      "01011112222\n"
     ]
    }
   ],
   "source": [
    "# 26\n",
    "phone_number = \"010-1111-2222\"\n",
    "a = phone_number.replace(\"-\", \"\")\n",
    "print(a)"
   ]
  },
  {
   "cell_type": "code",
   "execution_count": 13,
   "id": "94a7a970-9abf-45a1-ba91-2d9c4ff1e240",
   "metadata": {},
   "outputs": [
    {
     "name": "stdout",
     "output_type": "stream",
     "text": [
      "kr\n"
     ]
    }
   ],
   "source": [
    "# 27\n",
    "url = \"http://sharebook.kr\"\n",
    "a = url.split('.')\n",
    "print(a[-1])"
   ]
  },
  {
   "cell_type": "code",
   "execution_count": null,
   "id": "4857aa80-2540-46b4-a643-f0a289bfb84a",
   "metadata": {},
   "outputs": [],
   "source": [
    "# 28\n",
    "문자열은 수정불가!!!!!!"
   ]
  },
  {
   "cell_type": "code",
   "execution_count": 19,
   "id": "62c112b0-c648-4d97-b496-4d6633e3115f",
   "metadata": {},
   "outputs": [
    {
     "ename": "TypeError",
     "evalue": "'str' object does not support item assignment",
     "output_type": "error",
     "traceback": [
      "\u001b[1;31m---------------------------------------------------------------------------\u001b[0m",
      "\u001b[1;31mTypeError\u001b[0m                                 Traceback (most recent call last)",
      "Cell \u001b[1;32mIn[19], line 2\u001b[0m\n\u001b[0;32m      1\u001b[0m lang \u001b[38;5;241m=\u001b[39m \u001b[38;5;124m'\u001b[39m\u001b[38;5;124mpython\u001b[39m\u001b[38;5;124m'\u001b[39m\n\u001b[1;32m----> 2\u001b[0m lang[\u001b[38;5;241m0\u001b[39m] \u001b[38;5;241m=\u001b[39m \u001b[38;5;124m'\u001b[39m\u001b[38;5;124mP\u001b[39m\u001b[38;5;124m'\u001b[39m\n\u001b[0;32m      3\u001b[0m \u001b[38;5;28mprint\u001b[39m(lang)\n",
      "\u001b[1;31mTypeError\u001b[0m: 'str' object does not support item assignment"
     ]
    }
   ],
   "source": [
    "lang = 'python'\n",
    "lang[0] = 'P'\n",
    "print(lang)"
   ]
  },
  {
   "cell_type": "code",
   "execution_count": 23,
   "id": "5f4d6f92-5413-4f6f-8d08-92a3e8863c5d",
   "metadata": {},
   "outputs": [
    {
     "name": "stdout",
     "output_type": "stream",
     "text": [
      "Abcdfe2A354A32A\n"
     ]
    }
   ],
   "source": [
    "# 29\n",
    "string = 'abcdfe2a354a32a'\n",
    "a = string.replace('a', 'A')\n",
    "print(a)"
   ]
  },
  {
   "cell_type": "code",
   "execution_count": 27,
   "id": "79a3bf8b-4220-4a50-a621-b29b06afff7c",
   "metadata": {},
   "outputs": [
    {
     "ename": "TypeError",
     "evalue": "'str' object does not support item assignment",
     "output_type": "error",
     "traceback": [
      "\u001b[1;31m---------------------------------------------------------------------------\u001b[0m",
      "\u001b[1;31mTypeError\u001b[0m                                 Traceback (most recent call last)",
      "Cell \u001b[1;32mIn[27], line 2\u001b[0m\n\u001b[0;32m      1\u001b[0m string \u001b[38;5;241m=\u001b[39m \u001b[38;5;124m'\u001b[39m\u001b[38;5;124mabcdfe2a354a32a\u001b[39m\u001b[38;5;124m'\u001b[39m\n\u001b[1;32m----> 2\u001b[0m string[\u001b[38;5;241m0\u001b[39m] \u001b[38;5;241m=\u001b[39m \u001b[38;5;124m'\u001b[39m\u001b[38;5;124mA\u001b[39m\u001b[38;5;124m'\u001b[39m\n\u001b[0;32m      3\u001b[0m \u001b[38;5;28mprint\u001b[39m(string)\n",
      "\u001b[1;31mTypeError\u001b[0m: 'str' object does not support item assignment"
     ]
    }
   ],
   "source": [
    "string = 'abcdfe2a354a32a'\n",
    "string[0] = 'A'\n",
    "print(string)"
   ]
  },
  {
   "cell_type": "code",
   "execution_count": null,
   "id": "18ceb21d-ad48-4fc6-8962-d96d1caf593d",
   "metadata": {},
   "outputs": [],
   "source": [
    "# 30 **\n",
    "문자열은 변경X, replace 메서드 사용하면 그대로 출력"
   ]
  },
  {
   "cell_type": "code",
   "execution_count": 25,
   "id": "36fa87ce-1dd7-43b9-81c2-da94a156e343",
   "metadata": {},
   "outputs": [
    {
     "name": "stdout",
     "output_type": "stream",
     "text": [
      "abcd\n"
     ]
    }
   ],
   "source": [
    "string = 'abcd'\n",
    "string.replace('b', 'B')\n",
    "print(string)"
   ]
  },
  {
   "cell_type": "code",
   "execution_count": null,
   "id": "7d28c2e6-641a-4112-86f3-4967dd259a20",
   "metadata": {},
   "outputs": [],
   "source": [
    "# 31\n",
    "두 문자열에 대한 덧셈 기호는 '문자열의 연결' "
   ]
  },
  {
   "cell_type": "code",
   "execution_count": 31,
   "id": "b45c72be-ba2f-4527-b494-53cd9f9137a3",
   "metadata": {},
   "outputs": [
    {
     "name": "stdout",
     "output_type": "stream",
     "text": [
      "34\n"
     ]
    }
   ],
   "source": [
    "a = '3'\n",
    "b = '4'\n",
    "print(a + b)"
   ]
  },
  {
   "cell_type": "code",
   "execution_count": null,
   "id": "e174535b-e980-43ed-a9fd-729739208a91",
   "metadata": {},
   "outputs": [],
   "source": [
    "# 32\n",
    "HiHiHi"
   ]
  },
  {
   "cell_type": "code",
   "execution_count": 35,
   "id": "8ef591c6-6775-4a34-a6d2-bcf3bd247eb1",
   "metadata": {},
   "outputs": [
    {
     "name": "stdout",
     "output_type": "stream",
     "text": [
      "HiHiHi\n"
     ]
    }
   ],
   "source": [
    "print(\"Hi\" * 3)"
   ]
  },
  {
   "cell_type": "code",
   "execution_count": 37,
   "id": "b3c56d07-8561-47b2-8f3e-06142f31927d",
   "metadata": {},
   "outputs": [
    {
     "name": "stdout",
     "output_type": "stream",
     "text": [
      "--------------------------------------------------------------------------------\n"
     ]
    }
   ],
   "source": [
    "# 33\n",
    "print(\"-\" * 80)"
   ]
  },
  {
   "cell_type": "code",
   "execution_count": 39,
   "id": "f49992d5-1bff-487a-b581-f54b1c2be47a",
   "metadata": {},
   "outputs": [
    {
     "name": "stdout",
     "output_type": "stream",
     "text": [
      "python java python java python java python java \n"
     ]
    }
   ],
   "source": [
    "# 34\n",
    "t1 = 'python'\n",
    "t2 = 'java'\n",
    "a = t1+' '+t2+' '\n",
    "print(a * 4)"
   ]
  },
  {
   "cell_type": "code",
   "execution_count": 43,
   "id": "c3112fb8-512c-4482-9299-22881381e691",
   "metadata": {},
   "outputs": [
    {
     "name": "stdout",
     "output_type": "stream",
     "text": [
      "이름: 김민수 나이: 10\n",
      "이름: 이철희 나이: 13\n"
     ]
    }
   ],
   "source": [
    "# 35\n",
    "name1 = \"김민수\" \n",
    "age1 = 10\n",
    "name2 = \"이철희\"\n",
    "age2 = 13\n",
    "print(\"이름: %s 나이: %d\"%(name1, age1))\n",
    "print(\"이름: %s 나이: %d\"%(name2, age2))"
   ]
  },
  {
   "cell_type": "code",
   "execution_count": 46,
   "id": "018b31fb-ce24-4a33-9e4b-1d81332650ae",
   "metadata": {},
   "outputs": [
    {
     "name": "stdout",
     "output_type": "stream",
     "text": [
      "이름: 김민수 나이: 10\n",
      "이름: 이철희 나이: 13\n"
     ]
    }
   ],
   "source": [
    "# 36\n",
    "name1 = \"김민수\" \n",
    "age1 = 10\n",
    "name2 = \"이철희\"\n",
    "age2 = 13\n",
    "print(\"이름: {} 나이: {}\".format(name1, age1))\n",
    "print(\"이름: {} 나이: {}\".format(name2, age2))"
   ]
  },
  {
   "cell_type": "code",
   "execution_count": 52,
   "id": "bc8a1e17-9597-4ced-8870-42d49b5e89c6",
   "metadata": {},
   "outputs": [
    {
     "name": "stdout",
     "output_type": "stream",
     "text": [
      "이름: 김민수 나이: 10\n",
      "이름: 이철희 나이: 13\n"
     ]
    }
   ],
   "source": [
    "# 37\n",
    "name1 = \"김민수\" \n",
    "age1 = 10\n",
    "name2 = \"이철희\"\n",
    "age2 = 13\n",
    "print(f\"이름: {name1} 나이: {age1}\")\n",
    "print(f\"이름: {name2} 나이: {age2}\")"
   ]
  },
  {
   "cell_type": "code",
   "execution_count": null,
   "id": "049531e4-31a3-43aa-8627-74946d41f2c0",
   "metadata": {},
   "outputs": [],
   "source": [
    "# 38\n",
    "정수형으로 변환하려면 int() 함수 사용!"
   ]
  },
  {
   "cell_type": "code",
   "execution_count": 54,
   "id": "1342bf11-46d8-41f5-bb47-537a64516b3d",
   "metadata": {},
   "outputs": [
    {
     "name": "stdout",
     "output_type": "stream",
     "text": [
      "5969782550 <class 'int'>\n"
     ]
    }
   ],
   "source": [
    "상장주식수 = \"5,969,782,550\"\n",
    "a = 상장주식수.replace(\",\",\"\")\n",
    "b = int(a)\n",
    "print(b, type(b))"
   ]
  },
  {
   "cell_type": "code",
   "execution_count": 56,
   "id": "a8d851e9-f9a2-4223-8451-1f65b85622ed",
   "metadata": {},
   "outputs": [
    {
     "name": "stdout",
     "output_type": "stream",
     "text": [
      "2020/03\n"
     ]
    }
   ],
   "source": [
    "# 39\n",
    "분기 = \"2020/03(E) (IFRS연결)\"\n",
    "print(분기[:7])"
   ]
  },
  {
   "cell_type": "code",
   "execution_count": 58,
   "id": "ca4f6e41-3379-4410-bcbe-cf0ded9bebd8",
   "metadata": {},
   "outputs": [
    {
     "name": "stdout",
     "output_type": "stream",
     "text": [
      "삼성전자\n"
     ]
    }
   ],
   "source": [
    "# 40\n",
    "data = \"   삼성전자    \"\n",
    "a = data.strip()\n",
    "print(a)"
   ]
  },
  {
   "cell_type": "code",
   "execution_count": 60,
   "id": "5579ece4-626a-4f67-aebf-889e7ceb16d9",
   "metadata": {},
   "outputs": [
    {
     "name": "stdout",
     "output_type": "stream",
     "text": [
      "BTC_KRW\n"
     ]
    }
   ],
   "source": [
    "# 41\n",
    "ticker = \"btc_krw\"\n",
    "a = ticker.upper()\n",
    "print(a)"
   ]
  },
  {
   "cell_type": "code",
   "execution_count": 62,
   "id": "f4d4ab4f-f9d3-41f5-8d12-44eb445bc1f3",
   "metadata": {},
   "outputs": [
    {
     "name": "stdout",
     "output_type": "stream",
     "text": [
      "btc_krw\n"
     ]
    }
   ],
   "source": [
    "# 42\n",
    "ticker = \"BTC_KRW\"\n",
    "a = ticker.lower()\n",
    "print(a)"
   ]
  },
  {
   "cell_type": "code",
   "execution_count": null,
   "id": "a75c15e0-ecd0-44fc-88e6-e8ce15d7fc9b",
   "metadata": {},
   "outputs": [],
   "source": [
    "# 43 ?????"
   ]
  },
  {
   "cell_type": "code",
   "execution_count": 80,
   "id": "4edf84bc-c4f4-4b0e-b1d4-1b1b1ec2b8fd",
   "metadata": {},
   "outputs": [
    {
     "data": {
      "text/plain": [
       "True"
      ]
     },
     "execution_count": 80,
     "metadata": {},
     "output_type": "execute_result"
    }
   ],
   "source": [
    "# 44 **\n",
    "file_name = \"보고서.xlsx\"\n",
    "file_name.endswith(\"xlsx\")"
   ]
  },
  {
   "cell_type": "code",
   "execution_count": 82,
   "id": "c2865b8b-113e-47bb-ac8e-2b0c8e9b4483",
   "metadata": {},
   "outputs": [
    {
     "data": {
      "text/plain": [
       "True"
      ]
     },
     "execution_count": 82,
     "metadata": {},
     "output_type": "execute_result"
    }
   ],
   "source": [
    "# 45 **\n",
    "file_name = \"보고서.xlsx\"\n",
    "file_name.endswith((\"xlsx\", \"xls\"))"
   ]
  },
  {
   "cell_type": "code",
   "execution_count": 84,
   "id": "fa56ac3e-4c5b-42d9-bb96-27eb1acbd9bf",
   "metadata": {},
   "outputs": [
    {
     "data": {
      "text/plain": [
       "True"
      ]
     },
     "execution_count": 84,
     "metadata": {},
     "output_type": "execute_result"
    }
   ],
   "source": [
    "# 46\n",
    "file_name = \"2020_보고서.xlsx\"\n",
    "file_name.startswith(\"2020\")"
   ]
  },
  {
   "cell_type": "code",
   "execution_count": 88,
   "id": "228fab6b-adf2-4396-92ff-80c6de1e58dd",
   "metadata": {},
   "outputs": [
    {
     "data": {
      "text/plain": [
       "['hello', 'world']"
      ]
     },
     "execution_count": 88,
     "metadata": {},
     "output_type": "execute_result"
    }
   ],
   "source": [
    "# 47\n",
    "a = \"hello world\"\n",
    "a.split()"
   ]
  },
  {
   "cell_type": "code",
   "execution_count": 90,
   "id": "265b1c15-bb93-4a46-8af6-b1ee50696c09",
   "metadata": {},
   "outputs": [
    {
     "data": {
      "text/plain": [
       "['btc', 'krw']"
      ]
     },
     "execution_count": 90,
     "metadata": {},
     "output_type": "execute_result"
    }
   ],
   "source": [
    "# 48\n",
    "ticker = \"btc_krw\"\n",
    "ticker.split('_')"
   ]
  },
  {
   "cell_type": "code",
   "execution_count": 96,
   "id": "7caadc27-b456-40ef-9f16-18df0f7ac0e6",
   "metadata": {},
   "outputs": [
    {
     "data": {
      "text/plain": [
       "['2020', '05', '01']"
      ]
     },
     "execution_count": 96,
     "metadata": {},
     "output_type": "execute_result"
    }
   ],
   "source": [
    "# 49\n",
    "date = \"2020-05-01\"\n",
    "date.split(\"-\")"
   ]
  },
  {
   "cell_type": "code",
   "execution_count": 104,
   "id": "d11f448b-60ca-4e72-b4ff-aadf27afbcc6",
   "metadata": {},
   "outputs": [
    {
     "data": {
      "text/plain": [
       "'039490'"
      ]
     },
     "execution_count": 104,
     "metadata": {},
     "output_type": "execute_result"
    }
   ],
   "source": [
    "# 50\n",
    "data = \"039490     \"\n",
    "data.rstrip()"
   ]
  }
 ],
 "metadata": {
  "kernelspec": {
   "display_name": "Python 3 (ipykernel)",
   "language": "python",
   "name": "python3"
  },
  "language_info": {
   "codemirror_mode": {
    "name": "ipython",
    "version": 3
   },
   "file_extension": ".py",
   "mimetype": "text/x-python",
   "name": "python",
   "nbconvert_exporter": "python",
   "pygments_lexer": "ipython3",
   "version": "3.12.4"
  }
 },
 "nbformat": 4,
 "nbformat_minor": 5
}
