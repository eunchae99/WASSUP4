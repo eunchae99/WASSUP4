


# 1
print('Hello World')


# 2
print("Mary's cosmetics")


# 3
print('신씨가 소리질렀다. "도둑이야".')


# 4
print("C:\Windows")


# 5
print("안녕하세요.\n만나서\t\t반갑습니다.")


\n 줄바꿈
\t 탭


# 6
오늘은 일요일


print ("오늘은", "일요일")


# 7
print("naver;kakao;sk;samsung")


# 8
print("naver/kakao/sk/samsung")


# 9 **
print("first", end=""); print("second")


# 10
print(5/3)





# 11
삼성전자 = 50000
총평가금액 = 삼성전자 * 10
print(총평가금액)


# 12 **
시가총액 = 298000000000000
현재가 = 50000
PER = 15.79
print(시가총액, type(시가총액))
print(현재가, type(현재가))
print(PER, type(PER))


# 13
s = "hello"
t = "python"
print(s+'!', t)


# 14
8


2+2*3


# 15
a = "132"
print(type(a))


# 16 **
num_str = "720"  #형변환
num_int = int(num_str)
print(num_int+1, type(num_int))


# 17 **
num = 100
result = str(num)
print(result, type(result))


# 18 **
data = "15.79"
data = float(data)
print(data, type(data))


# 19
year = "2020"
print(int(year)-3)
print(int(year)-2)  
print(int(year)-1)


# 20
월 = 48584
총금액 = 48584 * 36
총금액





# 21
letters = 'python'
letters[0], letters[2]


letters = 'python'
print(letters[0], letters[2])


# 22
license_plate = "24가 2210"
print(license_plate[4:8])


license_plate = "24가 2210"
license_plate[4:8]


license_plate = "24가 2210"
print(license_plate[-4:])


# 23
string = "홀짝홀짝홀짝"
print(string[0], string[2], string[4])


string = "홀짝홀짝홀짝"
print(string[::2])


# 24
string = "PYTHON"
print(string[::-1])


# 25
phone_number = "010-1111-2222"
print(phone_number[:3], phone_number[4:8], phone_number[-4:])


phone_number = "010-1111-2222"
a = phone_number.replace("-", " ")
print(a)


# 26
phone_number = "010-1111-2222"
a = phone_number.replace("-", "")
print(a)


# 27
url = "http://sharebook.kr"
a = url.split('.')
print(a[-1])


# 28
문자열은 수정불가!!!!!!


lang = 'python'
lang[0] = 'P'
print(lang)


# 29
string = 'abcdfe2a354a32a'
a = string.replace('a', 'A')
print(a)


string = 'abcdfe2a354a32a'
string[0] = 'A'
print(string)


# 30 **
문자열은 변경X, replace 메서드 사용하면 그대로 출력


string = 'abcd'
string.replace('b', 'B')
print(string)


# 31
두 문자열에 대한 덧셈 기호는 '문자열의 연결' 


a = '3'
b = '4'
print(a + b)


# 32
HiHiHi


print("Hi" * 3)


# 33
print("-" * 80)


# 34
t1 = 'python'
t2 = 'java'
a = t1+' '+t2+' '
print(a * 4)


# 35
name1 = "김민수" 
age1 = 10
name2 = "이철희"
age2 = 13
print("이름: %s 나이: %d"%(name1, age1))
print("이름: %s 나이: %d"%(name2, age2))


# 36
name1 = "김민수" 
age1 = 10
name2 = "이철희"
age2 = 13
print("이름: {} 나이: {}".format(name1, age1))
print("이름: {} 나이: {}".format(name2, age2))


# 37
name1 = "김민수" 
age1 = 10
name2 = "이철희"
age2 = 13
print(f"이름: {name1} 나이: {age1}")
print(f"이름: {name2} 나이: {age2}")


# 38
정수형으로 변환하려면 int() 함수 사용!


상장주식수 = "5,969,782,550"
a = 상장주식수.replace(",","")
b = int(a)
print(b, type(b))


# 39
분기 = "2020/03(E) (IFRS연결)"
print(분기[:7])


# 40
data = "   삼성전자    "
a = data.strip()
print(a)


# 41
ticker = "btc_krw"
a = ticker.upper()
print(a)


# 42
ticker = "BTC_KRW"
a = ticker.lower()
print(a)


# 43 ?????


# 44 **
file_name = "보고서.xlsx"
file_name.endswith("xlsx")


# 45 **
file_name = "보고서.xlsx"
file_name.endswith(("xlsx", "xls"))


# 46
file_name = "2020_보고서.xlsx"
file_name.startswith("2020")


# 47
a = "hello world"
a.split()


# 48
ticker = "btc_krw"
ticker.split('_')


# 49
date = "2020-05-01"
date.split("-")


# 50
data = "039490     "
data.rstrip()
