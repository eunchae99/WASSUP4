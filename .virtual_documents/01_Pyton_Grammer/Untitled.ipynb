


# 1
print('Hello World')


# 2
print("Mary's cosmetics")


# 3
print('신씨가 소리질렀다. "도둑이야".')


# 4
print("C:\Windows")


# 5
print("안녕하세요.\n만나서\t\t반갑습니다.")


\n 줄바꿈
\t 탭


# 6
오늘은 일요일


print ("오늘은", "일요일")


# 7
print("naver;kakao;sk;samsung")


# 8
print("naver/kakao/sk/samsung")


# 9 **
print("first", end=""); print("second")


# 10
print(5/3)





# 11
삼성전자 = 50000
총평가금액 = 삼성전자 * 10
print(총평가금액)


# 12 **
시가총액 = 298000000000000
현재가 = 50000
PER = 15.79
print(시가총액, type(시가총액))
print(현재가, type(현재가))
print(PER, type(PER))


# 13
s = "hello"
t = "python"
print(s+'!', t)


# 14
8


2+2*3


# 15
a = "132"
print(type(a))


# 16 **
num_str = "720"  #형변환
num_int = int(num_str)
print(num_int+1, type(num_int))


# 17 **
num = 100
result = str(num)
print(result, type(result))


# 18 **
data = "15.79"
data = float(data)
print(data, type(data))


# 19
year = "2020"
print(int(year)-3)
print(int(year)-2)  
print(int(year)-1)


# 20
월 = 48584
총금액 = 48584 * 36
총금액





# 21
letters = 'python'
letters[0], letters[2]


letters = 'python'
print(letters[0], letters[2])


# 22
license_plate = "24가 2210"
print(license_plate[4:8])


license_plate = "24가 2210"
license_plate[4:8]


license_plate = "24가 2210"
print(license_plate[-4:])


# 23
string = "홀짝홀짝홀짝"
print(string[0], string[2], string[4])


string = "홀짝홀짝홀짝"
print(string[::2])


# 24





































