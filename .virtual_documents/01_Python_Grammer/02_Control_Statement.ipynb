


money = True
if money:
     print("택시를 타고 가라")
else:
     print("걸어 가라")


# 코드 블럭 들여쓰기 에러
money = True
if money:
    print("택시를")
print("타고")
    print("가라")


# 코드 블럭 들여쓰기 에러
money = True
if money:
    print("택시를")
    print("타고")
        print("가라")





x = 3
y = 2
x > y


x < y


x!=y


## quiz: 만약 3000원 이상의 돈을 가지고 있으면 택시를 타고 가고, 그렇지 않으면 걸어가라.
money = True  #왜 거짓이 실행될까? True int값이 1 
if money>=3000:
    print('택시 타라')
else:
    print('걸어가라')


## quiz: 돈이 3000원 이상 있거나 카드가 있다면 택시를 타고 가고, 그렇지 않으면 걸어가라.
money = True
card = True
if money>=3000 or card:
    print('택시 타라')
else:
    print('걸어가라')


1 in [1,2,3]


1 not in [1,2,3]


'a' in ('a', 'b', 'c')


'j' not in 'python'


# quiz: 만약 주머니에 돈이 있으면 택시를 타고 가고, 없으면 걸어가라.
pocket = ['paper', 'money', 'phone', 'water']
if 'money' in pocket:
    print('택시 타라')
else:
    print('걸어가라')


# pass
# 주머니에 돈이 있으면 가만히 있고, 주머니에 돈이 없으면 카드를 꺼내라.

pocket = ['card', 'money', 'phone', 'water']
if 'money' in pocket:
    pass
else:
    print('카드 꺼내')





pocket = ['card', 'money', 'water']
if 'money' in pocket:
    print ('택시')
else:
    if 'card' in pocket:
        print ('택시')
    else:
        print ('걸어가')


pocket = ['paper', 'cellphone']
card = True
if 'money' in pocket:
      print("택시를 타고가라")
elif card: 
      print("택시를 타고가라")
else:
      print("걸어가라")





if 'money' in pocket:
    pass
else:
    print('카드 꺼내')


if 'money' in pocket: pass
else: print('카드 꺼내')





score = 80
if score >= 60:
    message = "success"
    print(message)
else:
    message = "failure"
    print(message)


score = 80
if score >= 60:
    message = "success"
else:
    message = "failure"
print(message)


score = 50
message = "success" if score >= 60 else "failure"
print(message)





treeHit = 0
while treeHit < 10:
     treeHit = treeHit +1
     print("나무를 %d번 찍었습니다." % treeHit)
     if treeHit == 10:
         print("나무 넘어갑니다.")


prompt = '''
1. Add
2. Del
3. List
4. Quit

Enter number : '''


print(prompt)


input()  #input은 문자열로 반환!


number = 0
while number !=4:
    print(prompt)
    number = int(input())





coffee = 10
money = 300
while money:
     print("돈을 받았으니 커피를 줍니다.")
     coffee = coffee -1
     print("남은 커피의 양은 %d개입니다." % coffee)
     if coffee == 0:
         print("커피가 다 떨어졌습니다. 판매를 중지합니다.")
         break


## quiz
```
커피 자판기 프로그램을 만들어 보자
money를 사용자 입력 받을 것

```


coffee = 10
while True:
    money = int(input("돈을 넣어 주세요: "))
    if money == 300:
        print("커피를 줍니다.")
        coffee = coffee -1
    elif money > 300:
        print("거스름돈 %d를 주고 커피를 줍니다." % (money -300))
        coffee = coffee -1
    else:
        print("돈을 다시 돌려주고 커피를 주지 않습니다.")
        print("남은 커피의 양은 %d개 입니다." % coffee)
    if coffee == 0:
        print("커피가 다 떨어졌습니다. 판매를 중지 합니다.")
        break





a = 0
while a <10:
    a += 1

    if a  % 2 == 0:
        continue
    
    print(a)





# 전형적인 for 문
test_list = ['one', 'two', 'three']

for i in test_list:
    print(i)


a = [(1,2), (3,4), (5,6)]
for i in a:
    print(i)


for first, last in a:
    print(first+last)


# quiz
총 5명의 학생이 시험을 보았는데 시험 점수가 60점 이상이면 합격이고 그렇지 않으면 불합격이다. 합격인지, 불합격인지 결과를 보여 주시오.


scores = [90, 25, 67, 45, 80]

number = 0
for s in scores:
    number +=1
    if s >= 60:
        print(f'{number}번 학생은 {s} 합격입니다.')
    else:
        print(f'{number}번 학생은 {s} 합격입니다.')





score = [90, 25, 67, 45, 80]

number = 0
for s in scores:
    number += 1
    if s < 60:
        continue
    print(f'{number}번 학생 축하합니다. 합격입니다.")





range?


range(10)


type(range(10))


for i in range(10):
    print(i)


# Quiz
# for문과 range함수를 이용하여 1부터 10까지 더해서 출력
a = 0
for i in range(1, 11):
    a = a+i
print(a)


score = [90, 25, 67, 45, 80]

for s in range(len(score)):
    if score[s] < 60:
        continue
    print(f"{s+1}번 학생 축하합니다. 합격입니다.")





for i in range(2,10):        
     for j in range(1, 10):   
         print(i*j, end=" ") 
     print('') 





a = [1,2,3,4]
result = []
for num in a:
     result.append(num*3)

print(result)


a = [1,2,3,4]
result = [num * 3 for num in a]
print(result)


a = [1,2,3,4]
result = [num * 3 for num in a if num % 2 == 0]
print(result)


# 시간 측정을 위한 코드, 2배넘게 차이남
import time

start = time.time() 
numbers = [i for i in range(1000000)] 
end = time.time() 
print('List Comprehension Time:', end-start)

start = time.time() 
numbers = []
for i in range(1000000):
    numbers.append(i)
end = time.time() 
print('For loop Time:', end-start)

































