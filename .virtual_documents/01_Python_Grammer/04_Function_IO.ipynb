





def add(a, b):
    return a + b


a = 3
b = 4
c = add(a, b)
print(c)





def add(a, b):  # a, b는 매개변수
    return a+b

print(add(3, 4))  # 3, 4는 인수





# 일반적인 함수
def add1(a, b): 
    result = a + b 
    return result


c = add1(3, 4)
print(c)


# 입력값이 없는 함수
def say():
    return 'Hi'


say()


# 리턴값이 없는 함수
def add2(a, b):
    print("%d, %d의 합은 %d입니다." % (a, b, a+b))


add2(3, 4)


c = add2(3,4)


print(c)


# 입력값도, 리턴값도 없는 함수


def say2():
    print('Hi')


say2()


d = say2()


print(d)





def sub(a,b):
    return a-b


result = sub(a=7, b=3)
print(result)


result = sub(b=3, a=7)
print(result)


result = sub(b=5, a=3)
print(result)





# 사용자의 입력이 몇개든, 전부다 누적해서 더해주는 함수
def add_many(*args):
    result = 0
    for i in args:
        result += i
    return result   


add_many(1,2,3,4,5,6,7,8)


# Quiz
사용자에게 다수의 입력을 받아서 옵션에 따라
누적곱 또는 누적합을 출력하는 함수를 만들어라


def add_many(a, *args):
    if a == "누적곱":
        result = 1
        for i in args:
            result *= i
    elif a == "누적합":
        result = 0
        for i in args:
            result += i
    return result


add_many("누적곱", 1,2,3,4,5)


add_many("누적합", 1,2,3,4,5)





def print_kwargs(**kwargs):
    print(kwargs)


print_kwargs(a=1)


print_kwargs(name='a', age=20)





def add_and_mul(a,b):
    return a+b, a*b


add_and_mul(3,4)


type(add_and_mul(3,4)) #튜플 하나!


result1, result2 = add_and_mul(3,4)
result1


result2


def add_and_mul(a,b):
    return a+b
    return a*b


result = add_and_mul(2,3)
result





def say_nick(nick):
    if nick == '바보':
        return '옥상으로 따라와'
    print(f'나의 별명은 {nick}입니다.')


say_nick('야호')


say_nick('바보')





def say_myself(name, age, man=True):
    print(f'나의 이름은 {name}입니다.')
    print(f'나이는 {age}입니다.')
    if man:
        print('남자입니다.')
    else:
        print('여자입니다.')


say_myself('김은채', 22, False)





a = 1
def vartest(a):
    a += 1


a


vartest(a)


print(a)





# 1. return 사용하기
a = 1 
def vartest(a): 
    a = a +1 
    return a

a = vartest(a) 
print(a)


# 2. global 명령어 사용하기
a = 1
def vartest():
    global a
    a += 1
vartest()
print(a)





def add(a, b):
    return a+b
result = add(3,4)
print(result)


add = lambda a, b: a+b
add(3,4)





open?


f = open('output/test.txt', 'w')
f.close()
# ->output파일에 test.txt 생성


f = open('output/test.txt', 'w')
for i in range(1, 11):
    f.write(f'{i}번째 줄입니다.\n')
f.close()
#내용입력, \n은 줄바꿈


# readline 함수 이용하기
f = open('output/test.txt', 'r')
line = f.readline()
pirnt(line)
f.close()
#첫번째 줄을 출력해줌


f = open('output/test.txt', 'r')
for i in range(5):
    line = f.readline()
    pirnt(line)
f.close()
#5개 줄 보여줌


#readlines 함수
f = open('output/test.txt', 'r')
lines = f.readlines()
print(lines)
#하나의 리스트로 묶여서 모든 줄이 출력


f = open('output/test.txt', 'r')
lines = f.readlines()
for line in lines:
    print(line)
print(lines)
#모든 줄 출력 (한 줄에 한 문장)


#Quiz
메모장을 읽어올 때 줄바꿈 1개를 없애보세요.
f = open('output/test.txt', 'r')
lines = f.readlines()
for line in lines : 
    line = line.strip() #줄 끝의 줄 바꿈 문자를 제거한다.
    print(line)
f.close()


# read함수 사용하기
f = open('output/test.txt', 'r')
data = f.read()
print(type(data))
print(data)
f.close()
# 이렇게 불러오기도 함





f = open('output/test.txt', 'a')
for i in range(11, 21):
    data = f'{i}번째 줄입니다.\n'
    f.write(data)
f.close()
# 새로운 내용 생성





f = open("foo.txt", 'w')
f.write("Life is too short, you need python")
f.close()


with open("foo.txt", "w") as f:
    f.write("Your leg is too short")
#with문은 f.close()를 안 써도 됨


















