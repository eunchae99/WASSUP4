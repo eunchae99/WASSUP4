


# 1
print('Hello World')


# 2
print("Mary's cosmetics")


# 3
print('신씨가 소리질렀다. "도둑이야".')


# 4
print("C:\Windows")


# 5
print("안녕하세요.\n만나서\t\t반갑습니다.")


\n 줄바꿈
\t 탭


# 6
오늘은 일요일


print ("오늘은", "일요일")


# 7
print("naver;kakao;sk;samsung")


# 8
print("naver/kakao/sk/samsung")


# 9 **
print("first", end=""); print("second")


# 10
print(5/3)





# 11
삼성전자 = 50000
총평가금액 = 삼성전자 * 10
print(총평가금액)


# 12 **
시가총액 = 298000000000000
현재가 = 50000
PER = 15.79
print(시가총액, type(시가총액))
print(현재가, type(현재가))
print(PER, type(PER))


# 13
s = "hello"
t = "python"
print(s+'!', t)


# 14
8


2+2*3


# 15
a = "132"
print(type(a))


# 16 **
num_str = "720"  #형변환
num_int = int(num_str)
print(num_int+1, type(num_int))


# 17 **
num = 100
result = str(num)
print(result, type(result))


# 18 **
data = "15.79"
data = float(data)
print(data, type(data))


# 19
year = "2020"
print(int(year)-3)
print(int(year)-2)  
print(int(year)-1)


# 20
월 = 48584
총금액 = 48584 * 36
총금액





# 21
letters = 'python'
letters[0], letters[2]


letters = 'python'
print(letters[0], letters[2])


# 22
license_plate = "24가 2210"
print(license_plate[4:8])


license_plate = "24가 2210"
license_plate[4:8]


license_plate = "24가 2210"
print(license_plate[-4:])


# 23
string = "홀짝홀짝홀짝"
print(string[0], string[2], string[4])


string = "홀짝홀짝홀짝"
print(string[::2])


# 24
string = "PYTHON"
print(string[::-1])


# 25
phone_number = "010-1111-2222"
print(phone_number[:3], phone_number[4:8], phone_number[-4:])


phone_number = "010-1111-2222"
a = phone_number.replace("-", " ")
print(a)


# 26
phone_number = "010-1111-2222"
a = phone_number.replace("-", "")
print(a)


# 27
url = "http://sharebook.kr"
a = url.split('.')
print(a[-1])


# 28
문자열은 수정불가!!!!!!


lang = 'python'
lang[0] = 'P'
print(lang)


# 29
string = 'abcdfe2a354a32a'
a = string.replace('a', 'A')
print(a)


string = 'abcdfe2a354a32a'
string[0] = 'A'
print(string)


# 30 **
문자열은 변경X, replace 메서드 사용하면 그대로 출력


string = 'abcd'
string.replace('b', 'B')
print(string)


# 31
두 문자열에 대한 덧셈 기호는 '문자열의 연결' 


a = '3'
b = '4'
print(a + b)


# 32
HiHiHi


print("Hi" * 3)


# 33
print("-" * 80)


# 34
t1 = 'python'
t2 = 'java'
a = t1+' '+t2+' '
print(a * 4)


# 35
name1 = "김민수" 
age1 = 10
name2 = "이철희"
age2 = 13
print("이름: %s 나이: %d"%(name1, age1))
print("이름: %s 나이: %d"%(name2, age2))


# 36
name1 = "김민수" 
age1 = 10
name2 = "이철희"
age2 = 13
print("이름: {} 나이: {}".format(name1, age1))
print("이름: {} 나이: {}".format(name2, age2))


# 37
name1 = "김민수" 
age1 = 10
name2 = "이철희"
age2 = 13
print(f"이름: {name1} 나이: {age1}")
print(f"이름: {name2} 나이: {age2}")


# 38
정수형으로 변환하려면 int() 함수 사용!


상장주식수 = "5,969,782,550"
a = 상장주식수.replace(",","")
b = int(a)
print(b, type(b))


# 39
분기 = "2020/03(E) (IFRS연결)"
print(분기[:7])


# 40
data = "   삼성전자    "
a = data.strip()
print(a)


# 41
ticker = "btc_krw"
a = ticker.upper()
print(a)


# 42
ticker = "BTC_KRW"
a = ticker.lower()
print(a)


# 43 ?????


# 44 **
file_name = "보고서.xlsx"
file_name.endswith("xlsx")


# 45 **
file_name = "보고서.xlsx"
file_name.endswith(("xlsx", "xls"))


# 46
file_name = "2020_보고서.xlsx"
file_name.startswith("2020")


# 47
a = "hello world"
a.split()


# 48
ticker = "btc_krw"
ticker.split('_')


# 49
date = "2020-05-01"
date.split("-")


# 50
data = "039490     "
data.rstrip()





# 51
movie_rank = ['닥터 스트레인지', '스플릿', '럭키']
movie_rank


# 52
movie_rank + ['배트맨']


movie_rank = ['닥터 스트레인지', '스플릿', '럭키']
movie_rank.append('배트맨')
print(movie_rank)                  


# 53
movie_rank = ['닥터 스트레인지', '스플릿', '럭키', '배트맨']
movie_rank.insert(1, '슈퍼맨')
print(movie_rank)


# 54
movie_rank = ['닥터 스트레인지', '슈퍼맨', '스플릿', '럭키', '배트맨']
movie_rank.pop(3)
print(movie_rank)


movie_rank = ['닥터 스트레인지', '슈퍼맨', '스플릿', '럭키', '배트맨']
del movie_rank[3]
print(movie_rank)


# 55
movie_rank = ['닥터 스트레인지', '슈퍼맨', '스플릿', '배트맨']
movie_rank.pop()
movie_rank.pop()
print(movie_rank)


movie_rank = ['닥터 스트레인지', '슈퍼맨', '스플릿', '배트맨']
movie_rank[:2]


movie_rank = ['닥터 스트레인지', '슈퍼맨', '스플릿', '배트맨']
del movie_rank[2]
del movie_rank[2]
print(movie_rank)


# 56
lang1 = ["C", "C++", "JAVA"]
lang2 = ["Python", "Go", "C#"]
langs = lang1 + lang2
print(langs)


# 57
nums = [1, 2, 3, 4, 5, 6, 7]
print("max: ", max(nums))
print("min: ", min(nums))


# 58
nums = [1, 2, 3, 4, 5]
print(sum(nums))


# 59
cook = ["피자", "김밥", "만두", "양념치킨", "족발", "피자", "김치만두", "쫄면", "소시지", "라면", "팥빙수", "김치전"]
len(cook)


# 60
nums = [1, 2, 3, 4, 5]
a = sum(nums) / len(nums)
print(a)


# 61
price = ['20180728', 100, 130, 140, 150, 160, 170]
price[1:7]


# 62
nums = [1, 2, 3, 4, 5, 6, 7, 8, 9, 10]
print(nums[::2])


# 63
nums = [1, 2, 3, 4, 5, 6, 7, 8, 9, 10]
print(nums[1::2])


# 64
nums = [1, 2, 3, 4, 5]
print(nums[::-1])


# 65
interest = ['삼성전자', 'LG전자', 'Naver']
print(interest[0], interest[2])


# 66 ***
interest = ['삼성전자', 'LG전자', 'Naver', 'SK하이닉스', '미래에셋대우']
print(interest[0], interest[1], interest[2], interest[3], interest[4])


interest = ['삼성전자', 'LG전자', 'Naver', 'SK하이닉스', '미래에셋대우']
print(" ".join(interest))


# 67
interest = ['삼성전자', 'LG전자', 'Naver', 'SK하이닉스', '미래에셋대우']
print("/".join(interest))


# 68 ***
interest = ['삼성전자', 'LG전자', 'Naver', 'SK하이닉스', '미래에셋대우']
print("\n".join(interest))


# 69 ***
string = "삼성전자/LG전자/Naver"
interest = string.split("/")
print(interest)


# 70
data = [2, 4, 3, 1, 5, 10, 9]
data.sort()
print(data)





# 71
my_variable = ()
print(type(my_variable))


# 72
movie_rank = ('닥터 스트레인지', '스플릿', '럭키')
print(movie_rank)


# 73 #(1)만 작성하면 안됨
a = (1, )
print(type(a))


# 74 #튜플은 값을 변경할 수 없음!!
t = (1, 2, 3)
t[0] = 'a'


# 75 #튜플은 편의상 괄호 없이도 동작함
t = 1, 2, 3, 4
print(type(t))


# 76  #값을 변경할 수 없기 때문에 새로 업데이트
t = ('a', 'b', 'c')
t = ('A', 'b', 'c')
print(t)


# 77
interest = ('삼성전자', 'LG전자', 'SK Hynix')
a = list(interest)
print(a,type(a))


# 78
interest = ['삼성전자', 'LG전자', 'SK Hynix']
a = tuple(interest)
print(a,type(a))


# 79
temp = ('apple', 'banana', 'cake')
a, b, c = temp
print(a, b, c)


# 80 **
a = tuple(range(2, 100, 2))
print(a)





# 81 **
scores = [8.8, 8.9, 8.7, 9.2, 9.3, 9.7, 9.9, 9.5, 7.8, 9.4]
*valid_score, _, _= scores
print(valid_score)


# 82 **
scores = [8.8, 8.9, 8.7, 9.2, 9.3, 9.7, 9.9, 9.5, 7.8, 9.4]
a, b, *valid_score = scores
print(valid_score)


# 83 **
scores = [8.8, 8.9, 8.7, 9.2, 9.3, 9.7, 9.9, 9.5, 7.8, 9.4]
a, *valid_score, b = scores
print(valid_score)


# 84
temp = {}
print(type(temp))


# 85
a = {"메로나": 1000, "폴라포": 1200, "빵빠레": 1800}
print(a, type(a))


# 86
a["죠스바"] = 1200
a["월드콘"] = 1500
print(a)


# 87
print("메로나 가격: ", a["메로나"])


# 88
a["메로나"] = 1300
print(a)


# 89
del a["메로나"]
print(a)


# 90 #딕셔너리에 없는 키는 에러
icecream = {'폴라포': 1200, '빵빠레': 1800, '월드콘': 1500, '메로나': 1000}
icecream['누가바']


# 91
inventory = {"메로나": [300,20], "비비빅": [400,3], "죠스바": [250,100]}
print(inventory)


# 92
print(inventory["메로나"][0], "원")


# 93
print(inventory["메로나"][-1], "개")


# 94
inventory["월드콘"] = [500,7]
print(inventory)


# 95
icecream = {'탱크보이': 1200, '폴라포': 1200, '빵빠레': 1800, '월드콘': 1500, '메로나': 1000}
a = list(icecream.keys())
print(a)


# 96
icecream = {'탱크보이': 1200, '폴라포': 1200, '빵빠레': 1800, '월드콘': 1500, '메로나': 1000}
a = list(icecream.values())
print(a)


# 97
icecream = {'탱크보이': 1200, '폴라포': 1200, '빵빠레': 1800, '월드콘': 1500, '메로나': 1000}
a = sum(icecream.values())
print(a)


# 98 **
icecream = {'탱크보이': 1200, '폴라포': 1200, '빵빠레': 1800, '월드콘': 1500, '메로나': 1000}
new_product = {'팥빙수':2700, '아맛나':1000}
icecream.update(new_product)
print(icecream)


# 99 **
keys = ("apple", "pear", "peach")
vals = (300, 250, 400)
result = dict(zip(keys, vals))
print(result)


# 100
date = ['09/05', '09/06', '09/07', '09/08', '09/09']
close_price = [10500, 10300, 10100, 10800, 11000]
close_table = dict(zip(date, close_price))
print(close_table)





# 101
bool은 true, false를 갖는 데이터 타입!


# 102 #false!
print(3 == 5)


# 103 #true!
print(3 < 5)


# 104 #true!
x = 4
print(1 < x < 5)


# 105 #true!
print ((3 == 3) and (4 != 3))


# 106 # => 이런 연산자는 없음..
print(3 => 4)


# 107 # 출력X
if 4 < 3:
    print("Hello World")


# 108 # Hi, there
if 4 < 3:
    print("Hello World.")
else:
    print("Hi, there.")


# 109 # 1 2 4
if True :
    print ("1")
    print ("2")
else :
    print("3")
print("4")


# 110 # 3 5
if True :
    if False:
        print("1")
        print("2")
    else:
        print("3")
else :
    print("4")
print("5")


# 111
user = input("입력: ")
print(user*2)


# 112
user = int(input("숫자를 입력하세요: "))
print(user+10)


# 113
user = int(input())
if user%2 == 0:
    print("짝수")
else:
    print("홀수")


# 114
user = int(input("입력값: "))
if user+20<255:
    print(user+20)
else:
    print(255)


user = input("입력값: ")
num = 20 + int(user)
if num > 255:
    print(255)
else:
    print(num)


# 115
user = int(input("입력값: "))
if user-20<0:
    print(0)
elif user-20>255:
    print(255)
else:
    print(user-20)


# 116
user = input("현재시간: ")
if user[-2:] == "00":
    print("정각 입니다.")
else:
    print("정각이 아닙니다.")


# 117
fruit = ["사과", "포도", "홍시"]
user = input("좋아하는 과일은?")
if user in fruit:
    print("정답입니다.")
else:
    print("오답입니다.")


# 118
warn_investment_list = ["Microsoft", "Google", "Naver", "Kakao", "SAMSUNG", "LG"]
user = input("종목명: ")
if user in warn_investment_list:
    print("투자 경고 종목입니다.")
else:
    print("투자 경고 종목이 아닙니다.")


# 119
fruit = {"봄" : "딸기", "여름" : "토마토", "가을" : "사과"}
user = input("제가좋아하는계절은: ")
if user in fruit.keys():
    print("정답입니다.")
else:
    print("오답입니다.")


# 120
fruit = {"봄" : "딸기", "여름" : "토마토", "가을" : "사과"}
user = input("제가좋아하는과일은: ")
if user in fruit.values():
    print("정답입니다.")
else:
    print("오답입니다.")


# 121 **
user = input()
if user.islower():
    print(user.upper())
else:
    print(user.lower())


# 122
score = int(input("score: "))
if 81<=score<=100:
    print("grade is A")
elif 61<=score<=80:
    print("grade is B")
elif 41<=score<=60:
    print("grade is C")
elif 21<=score<=40:
    print("grade is D")
else:
    print("grade is E")


# 123 **
환율 = {"달러": 1167, "엔": 1.096, "유로": 1268, "위안": 171}
user = input("입력: ")
금액, 통화명 = user.split()
print(float(금액) * 환율[통화명], "원")


# 124
user1 = int(input("input number1: "))
user2 = int(input("input number2: "))
user3 = int(input("input number3: "))
if user1 >= user2 and user1 >= user3:
    print(user1)
elif user2 >= user1 and user2 >= user3:
    print(user2)
else:
    print(user3)


# 125
user = input("휴대전화 번호 입력: ")
if user[:3] == "011":
    print("당신은 SKT 사용자입니다.")
elif user[:3] == "016":
    print("당신은 KT 사용자입니다.")
elif user[:3] == "019":
    print("당신은 LGU 사용자입니다.")
else:
    print("알수없음")


number = input("휴대전화 번호 입력: ")
num = number.split("-")[0]
if num == "011":
    com = "SKT"
elif num == "016":
    com = "KT"
elif num == "019":
    com = "LGU"
else:
    com = "알수없음"
print(f"당신은 {com} 사용자입니다.")


# 126
user = input("우편번호: ")
if user[:3] == "010" or user[:3] == "011" or user[:3] == "012":
    print("강북구")
elif user[:3] == "013" or user[:3] == "014" or user[:3] == "015":
    print("도봉구")
else:
    print("노원구")


우편번호 = input("우편번호: ")
우편번호 = 우편번호[:3]
if 우편번호 in ["010", "011", "012"]:
    print("강북구")
elif 우편번호 in ["014", "015", "016"]:
    print("도봉구")
else:
    print("노원구")


# 127
user = input("주민등록번호: ")
a = user.split('-')[-1]
if a[:1] in ["1", "3"]:
    print("남자")
else:
    print("여자")


# 128
user = input("주민등록번호: ")
a = user.split('-')[-1]
if a[1:3] in ["00", "01", "02", "03", "04", "05", "06", "07", "08"]:
    print("서울 입니다")
else:
    print("서울이 아닙니다")


user = input("주민등록번호: ")
a = user.split('-')[-1]
if 0 <= int(a[1:3]) <= 8:
    print("서울입니다.")
else:
    print("서울이 아닙니다.")


# 129
num = input("주민등록번호: ")
계산1 = int(num[0]) * 2 + int(num[1]) * 3 + int(num[2]) * 4 + int(num[3]) * 5 + int(num[4]) * 6 + \
        int(num[5]) * 7 + int(num[7]) * 8 + int(num[8]) * 9 + int(num[9]) * 2 + int(num[10])* 3 + \
        int(num[11])* 4 + int(num[12]) * 5
계산2 = 11 - (계산1 % 11)
계산3 = str(계산2)

if num[-1] == 계산3[-1]:
    print("유효한 주민등록번호입니다.")
else:
    print("유효하지 않은 주민등록번호입니다.")


# 130 **
import requests
btc = requests.get("https://api.bithumb.com/public/ticker/").json()['data']

변동폭 = float(btc['max_price']) - float(btc['min_price'])
시가 = float(btc['opening_price'])
최고가 = float(btc['max_price'])

if (시가+변동폭) > 최고가:
    print("상승장")
else:
    print("하락장")





# 131 # 사과 귤 수박
과일 = ["사과", "귤", "수박"]
for 변수 in 과일:
    print(변수)


# 132 # ##### ##### #####
과일 = ["사과", "귤", "수박"]
for 변수 in 과일:
  print("#####")


# 133
a = ["A", "B", "C"]
for i in a:
    print(i)


print("A")
print("B")
print("C")


# 134
print("출력: A")
print("출력: B")
print("출력: C")


# 135
print("변환: ", "a")
print("변환: ", "b")
print("변환: ", "c")


for 변수 in ["A", "B", "C"]:
  b = 변수.lower()
  print("변환:", b)


변수 = "A"
b = 변수.lower()
print("변환:", b)
변수 = "B"
b = 변수.lower()
print("변환:", b)
변수 = "C"
b = 변수.lower()
print("변환:", b)


# 136
for i in [10, 20, 30]:
    print(i)


# 137
for i in [10, 20, 30]:
    print(i)


# 138
for i in [10, 20, 30]:
    print(i)
    print("-------")


# 139
print("++++")
for i in [10, 20, 30]:
    print(i)


# 140
for i in [1,2,3,4]:
    print("-------")


# 141
리스트 = [100, 200, 300]
for i in 리스트:
    print(i+10)


# 142
리스트 = ["김밥", "라면", "튀김"]
for i in 리스트:
    print("오늘의 메뉴: ", i)


# 143
리스트 = ["SK하이닉스", "삼성전자", "LG전자"]
for i in 리스트:
    print(len(i))


# 144
리스트 = ['dog', 'cat', 'parrot']
for i in 리스트:
    print(i, len(i))


# 145
리스트 = ['dog', 'cat', 'parrot']
for i in 리스트:
    print(i[0])


# 146
리스트 = [1, 2, 3]
for i in 리스트:
    print("3 x", i)


# 147
리스트 = [1, 2, 3]
for i in 리스트:
    print("3x", i, "=", 3*i)


# 148
리스트 = ["가", "나", "다", "라"]
for i in 리스트[1:]:
    print(i)


# 149
리스트 = ["가", "나", "다", "라"]
for i in 리스트[::2]:
    print(i)


# 150
리스트 = ["가", "나", "다", "라"]
for i in 리스트[::-1]:
    print(i)


# 151
리스트 = [3, -20, -3, 44]
for i in 리스트[1:3]:
    print(i)


리스트 = [3, -20, -3, 44]
for i in 리스트:
    if i < 0:
        print(i)


# 152
리스트 = [3, 100, 23, 44]
for i in 리스트:
    if i%3 ==0:
        print(i)


# 153
리스트 = [13, 21, 12, 14, 30, 18]
for i in 리스트:
    if i < 20 and i%3 == 0:
        print(i)


# 154
리스트 = ["I", "study", "python", "language", "!"]
for i in 리스트:
    if len(i) >= 3:
        print(i)


# 155
리스트 = ["A", "b", "c", "D"]
for i in 리스트:
    if i.isupper():
        print(i)


# 156
리스트 = ["A", "b", "c", "D"]
for i in 리스트:
    if i.islower():
        print(i)


# 157
리스트 = ['dog', 'cat', 'parrot']
for i in 리스트:
    print(i[0].upper() + i[1:])


# 158
리스트 = ['hello.py', 'ex01.py', 'intro.hwp']
for i in 리스트:
    print(i.split('.')[0])


# 159
리스트 = ['intra.h', 'intra.c', 'define.h', 'run.py']
for i in 리스트:
    split = i.split(".")
    if split[-1] == "h":
        print(i)


# 160
리스트 = ['intra.h', 'intra.c', 'define.h', 'run.py']
for i in 리스트:
    split = i.split(".")
    if split[-1] == "h" or split[-1] == "c":
        print(i)


# 161
for i in range(100):
    print(i)


# 162
for i in range(2002, 2051, 4):
    print(i)


# 163
for i in range(1, 31):
    if i%3 == 0:
        print(i)


for i in range(3, 31, 3):
    print(i)


# 164
for i in range(100):
    print(99-i)


# 165
for i in range(10):
    print(i/10)


# 166
for i in range(1, 10):
    print("3x", i, "=", i*3)


# 167
for i in range(1, 10, 2):
    print("3x", i, "=", i*3)


# 168
a = 0
for i in range(1, 11):
    a = a + i
print("합: ", a)


# 169
a = 0
for i in range(1, 10, 2):
    a += i
print("합: ", a)


# 170
a = 1
for i in range(1, 11):
    a *= i
print(a)


# 171
price_list = [32100, 32150, 32000, 32500]
for i in range(4):
    print(price_list[i])


for i in range(len(price_list)):
    print(price_list[i])


# 172
price_list = [32100, 32150, 32000, 32500]
for i in range(4):
    print(i, price_list[i])


# 173
price_list = [32100, 32150, 32000, 32500]
for i in range(4):
    print(3-i, price_list[i])


# 174
price_list = [32100, 32150, 32000, 32500]
for i in range(1, 4):
    print(90+10*i, price_list[i])


# 175
my_list = ["가", "나", "다", "라"]
for i in range(3):
    print(my_list[i], my_list[i+1])


# 176
my_list = ["가", "나", "다", "라", "마"]
for i in range(3):
    print(my_list[i], my_list[i+1], my_list[i+2])


# 177
my_list = ["가", "나", "다", "라"]
for i in range(1):
    print(my_list[-1], my_list[-2])
for i in range(1):
    print(my_list[-2], my_list[1])
for i in range(1):
    print(my_list[1], my_list[0])


# 178
my_list = [100, 200, 400, 800]
for i in range(3):
    print(my_list[i+1]-my_list[i])


# 179
my_list = [100, 200, 400, 800, 1000, 1300]
for i in range(4):
    print(abs(my_list[i] + my_list[i+1] + my_list[i+2])/3)


# 180
low_prices  = [100, 200, 400, 800, 1000]
high_prices = [150, 300, 430, 880, 1000]
volatility = []
for i in range(5):
    volatility.append(high_prices[i] - low_prices[i])
print(volatility)


# 181
apart = [ ["101호", "102호"], ["201호", "202호"], ["301호", "302호"] ]
print(apart, type(apart))


# 182
stock = [ ["시가", 100, 200, 300], ["종가", 80, 210, 330] ]
print(stock, type(stock))


# 183
stock = {}
stock["시가"] = 100, 200, 300
stock["종가"] = 80, 210, 330
print(stock, type(stock))


# 184
stock = {}
stock["10/10"] = 80, 110, 70, 90
stock["10/11"] = 210, 230, 190, 200
print(stock, type(stock))


# 185 **
apart = [ [101, 102], [201, 202], [301, 302] ]
for i in apart:
    for j in i:
        print(j, "호")


# 186
apart = [ [101, 102], [201, 202], [301, 302] ]
for i in apart[::-1]:
    for j in i:
        print(j, "호")


# 187
apart = [ [101, 102], [201, 202], [301, 302] ]
for i in apart[::-1]:
    for j in i[::-1]:
        print(j, "호")


# 188
apart = [ [101, 102], [201, 202], [301, 302] ]
for i in apart:
    for j in i:
        print(j, "호")
        print("-----")


# 189
apart = [ [101, 102], [201, 202], [301, 302] ]
for i in apart:
    for j in i:
        print(j, "호")
    print("-----")


# 190
apart = [ [101, 102], [201, 202], [301, 302] ]
for i in apart:
    for j in i:
        print(j, "호")
print("-----")


# 191
data = [
    [ 2000,  3050,  2050,  1980],
    [ 7500,  2050,  2050,  1980],
    [15450, 15050, 15550, 14900]
]
for i in data:
    for j in i:
        print(j * 1.00014)


# 192
data = [
    [ 2000,  3050,  2050,  1980],
    [ 7500,  2050,  2050,  1980],
    [15450, 15050, 15550, 14900]
]
for i in data:
    for j in i:
        print(j * 1.00014)
    print("----")


# 193
result = []
for i in data:
    for j in i:
        result.append(j * 1.00014)
print(result, type(result))


# 194
result = []
for i in data:
    sub = []
    for j in i:
        sub.append(j * 1.00014)
        result.append(sub)
print(result)


# 195
ohlc = [["open", "high", "low", "close"],
        [100, 110, 70, 100],
        [200, 210, 180, 190],
        [300, 310, 300, 310]]
for i in ohlc[1:]:
    print(i[3])


# 196
ohlc = [["open", "high", "low", "close"],
        [100, 110, 70, 100],
        [200, 210, 180, 190],
        [300, 310, 300, 310]]
for i in ohlc[1:]:
    if i[3] > 150:
        print(i[3])


# 197
ohlc = [["open", "high", "low", "close"],
        [100, 110, 70, 100],
        [200, 210, 180, 190],
        [300, 310, 300, 310]]
for i in ohlc[1:]:
    if i[3] >= i[0]:
        print(i[3])


# 198
volatility = []

ohlc = [["open", "high", "low", "close"],
        [100, 110, 70, 100],
        [200, 210, 180, 190],
        [300, 310, 300, 310]]

for i in ohlc[1:]:
    volatility.append(i[1]-i[2])
print(volatility, type(volatility))


# 199
ohlc = [["open", "high", "low", "close"],
        [100, 110, 70, 100],
        [200, 210, 180, 190],
        [300, 310, 300, 310]]

for i in ohlc[1:]:
    if i[-1] > i[0]:
        print(i[1]-i[2])


# 200
ohlc = [["open", "high", "low", "close"],
        [100, 110, 70, 100],
        [200, 210, 180, 190],
        [300, 310, 300, 310]]

a = 0
for i in ohlc[1:]:
    a += (i[3]-i[0])
print(a)
