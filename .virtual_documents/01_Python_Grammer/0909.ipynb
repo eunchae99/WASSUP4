


phone = {}
user = input("이름: ")
num = input("전화번호: ")
phone[user] = num
print(f"{user}님 연락처가 추가 되었습니다.")
print(f"전화번호는 {num} 입니다.")


print("연락처 전체 보기: ", phone)


user = input("이름: ")
print(f"{user}님 전화번호는 {num} 입니다.")


user = input("이름: ")
print(f"현재 {user}님의 전화번호는 {num} 입니다.")
new_num = input("수정할 전화번호: ")
phone[user] = new_num
print(f"{user}님의 수정된 전화번호는 {new_num} 입니다.")
print("전체 연락처: ", phone)


user = input("삭제할 연락처의 이름: ")
if user in phone:
    del phone[user]
print(f"{user}님의 연락처 삭제완료")
print("전체 연락처: ", phone)



