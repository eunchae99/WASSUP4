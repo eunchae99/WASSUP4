


f = open('나없는파일', 'r')


4 / 0


a = [1,2,3]
a[3]





# 1. Try-except만 쓰는 방법
try:
    4 / 0
except:
    print('0으로 나눌 수 없습니다.')


# 2. 발생 오류만 포함한 except문
try:
    4 / 0
except ZeroDivisionError:        #특정 에러를 지정 (제로디비젼 에러만 가능)
    print('0으로 나눌 수 없습니다.')


try:
    a = [1,2,3]
    a[3]
except ZeroDivisionError:        #특정 에러를 지정 (제로디비젼 에러만 가능)
    print('0으로 나눌 수 없습니다.')


# 3. 발생 오류와 오류 변수까지 포함한 except문
try:
    4 / 0
except ZeroDivisionError as e:      
    print('0으로 나눌 수 없습니다.')
    print(e)





# 여러개의 오류 처리하기
try:
    a = [1,2]
    print(a[3])
    4/0
except ZeroDivisionError:
    print("0으로 나눌 수 없습니다.")
except IndexError:
    print("인덱싱 할 수 없습니다.")


try:
    a = [1,2]
    print(a[3])
    4/0
except ZeroDivisionError as e:
    print(e)
except IndexError as e:
    print(e)





try:
    age=int(input('나이를 입력하세요: '))
except:
    print('입력이 정확하지 않습니다.')
else:
    if age <= 18:
        print('미성년자는 출입금지입니다.')
    else:
        print('환영합니다.')
