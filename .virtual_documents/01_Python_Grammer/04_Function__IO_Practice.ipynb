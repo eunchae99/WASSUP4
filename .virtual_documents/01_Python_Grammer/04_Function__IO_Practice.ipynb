


def is_odd(number):
    if number%2 == 1:
        return True
    else:
        return False


is_odd(3)


is_odd(4)





def avg_numbers(*args):
    result = 0
    for i in args:
        result += i
    return result/len(args)

print(avg_numbers(1,2))      
print(avg_numbers(1,2,3,4,5))





input1 = input("첫번째 숫자를 입력하세요:")
input2 = input("두번째 숫자를 입력하세요:")

total = int(input1) + int(input2)
print("두 수의 합은 %s 입니다" % total)





1. youneedpython
2. youneedpython
3. you need python
4. youneedpython





f1 = open("test.txt", 'w')
f1.write("Life is too short")
f1.close()

f2 = open("test.txt", 'r')
print(f2.read())
f2.close()





user_input = input("저장할 내용을 입력하세요: ")
f = open('test.txt', 'a')
f.write(user_input)
f.write('\n')
f.close()





f = open('test.txt', 'r')
body = f.read()
f.close()

body = body.replace("java", "python") 

f = open('test.txt', 'w')
f.write(body)
f.close()



