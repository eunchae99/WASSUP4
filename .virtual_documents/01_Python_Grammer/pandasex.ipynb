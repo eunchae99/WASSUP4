# Pandas
# Seris   1차원
# DataFrame 2차원


import pandas as pd
import numpy as np

#Series
s = pd.Series([1,2,3,4,5])
print(type(s))
print(s.index)
print(s.dtype)
print(s)

s.index = ['A', 'B', 'C', 'D', 'E']   #인덱스 지정
print(s)


s = pd.Series([1,2,3,4,5], ['A', 'B', 'C', 'D', 'E'])
print(s)
print(s.index)
print(s.values)
print(s['A'])
print(s.A)
print(s[0:5])
print(s['A':'C'])


#Dictionary (Map, JSON) -> Series
d = {'A':10, 'D':20, 'F':30, 'H':40}
print(type(d))

for key, value in d.items():
    print(key, ":", value)
print(d['A'])
# print(d.A)  #에러
#print(d['A':'F'])   #에러

s = pd.Series(d)
print(s.index)
print(s.values)
print(s['A'])
print(s.A)
print(s[0:3])
print(s['A':'F'])


# DataFrame
# Dictionary -> DataFrame
d = {
    'name': ['kim', 'lee', 'park', 'jung'],
    'age': [25,30,35,20],
    'tel': ['1111-2222', '2222-3333', '3333-4444', '4444-5555']
}
print(type(d))

df = pd.DataFrame(d)
print(df)
print(df.index)
print(df.columns)
print(df.values)
df.index.name = 'Num'
df.columns.name = 'User'
print(df)
print(df.index)
print(df.columns)


#Numpy -> DataFrame
n = np.array(
    [['kim', 20, '1111-2222'],
     ['lee', 30, '2222-3333'],
     ['park', 35, '3333-4444'],
     ['jung', 25, '4444-5555']]
)
print(type(n))
df = pd.DataFrame(n)

df.columns = ['name', 'age', 'tel']
df.index = ['A', 'B', 'C', 'D']
    
print(df)
print(df.index)
print(df.columns)

df = pd.DataFrame(n, columns=['name', 'age', 'tel'], index=['A','B','C','D'])
print(df)

print(df.describe())



print(df['name'])
print(df[['name','tel']])
print(df['name'][2])
print(df['name']['C'])
print(df['name'].C)
print(df['name']['B':'D'])

print(df.name, df.age)
print(df.name.C)


print(df[:][:])
print(df[:2][:1])
print(df[['name','tel']])
# print(df[[0, 2]])     #에러 / 컬럼명이 있는 경우 숫자X


df['address'] = ['서울', '수원', '인천', '안산']
df['adult'] = df['age'].astype(np.int64) > 30

del(df['adult'])

print(df)


# Series 정렬
s = pd.Series( [10,40,50,20,70,60], index=['a', 'd', 'f', 'g', 'b', 'c'] )
s = s.sort_index(ascending=False)   #()->오름차순 / (ascending=False)->내림차순
s = s.sort_values()       #(ascending=False)->내림차순
print(s)


# DataFrame 정렬
df = pd.DataFrame( [[4, 5, 40, 100],
                    [300, 10, 200, 2],
                    [20, 400, 4, 30]], index=['c', 'a', 'b'], columns=['D', 'C', 'A', 'B'])
print(df)
df = df.sort_index()     #index 정렬
df = df.sort_index(axis=0)
df = df.sort_index(axis=1, ascending=False)   #column 정렬 & 내림차순

df = df.sort_values(by='A', ascending = False)  #행끼리
df = df.sort_values(by=['A','B'])

df = df.sort_values(by='b', axis=1)        #열끼리
print(df)


# 슬라이싱
# .iloc           정수 인덱스
# .loc            라벨 인덱스

# list
m = [ [1,2,3], [4,5,6], [7,8,9] ]
print(m)
print(m[2][2])
print(m[:][:])
print(m[:2][:2])
#print(m[:2,:2])     #에러

# Numpy
n = np.array(m)
print(n)
print(n[2][2])
print(n[:][:])
print(n[:2][:2])
print(n[:2,:2])   #넘파이에서는 가능 (리스트 불가능)

# Pandas
df = pd.DataFrame(n)
print(df)
print(df[2][2])    #컬럼에 이름이 없기 때문에 가능함.
print(df[:][:])
print(df[:2][:2])
#print(df[:2,:2])   #에러


# iloc
df = pd.DataFrame(np.arange(1, 21).reshape(5,4), columns=['A','B','C','D'])
print(df)

#print(df[2][2])        #에러 (컬럼 이름 있어서)
print(df['C'][2])
print(df[['A', 'D']])
#print(df['A':'C'])     #에러
#print(df[['A':'C']])   #에러

print(df.iloc[2][2])
print(df.iloc[2, 2])
#print(df.iloc[2, 'C'])   #에러, iloc는 숫자밖에 못 줌! 이름(문자)X
print(df.iloc[:2, :2])
print(df.iloc[:3:2, :3:2])
print(df.iloc[:2, :-1])
print(df.iloc[::-1, ::-1])


# loc
print(df)
# print(df.loc[2,2])      #에러
print(df.loc[2, 'C'])
# print(df.loc[:2, :2])   #에러
print(df.loc[:2, :'C']) 

print(df.loc[:2])
print(df[:2])

print(df.loc[1:3, 'B':'D'])
print(df.loc[:, 'C'])
print(df.loc[:, ['B','D']])
print(df[['B','D']])


df = pd.DataFrame(np.arange(1,21).reshape(5,4), columns=['A','B','C','D'])
df['E'] = [31,32,33,34,35]
# df[5][:] = [90,91,92,93,94]        #에러
# df.iloc[:, 5] = [40,41,42,43,44]   #에러
# df.iloc[5, :] = [90,91,92,93,94]   #에러
df.loc[5] = [90,91,92,93,94]
df.loc[:, 'F'] = [40,41,42,43,44,45]

df.loc[0,'A'] = 99
df.loc[1, 'A':'C'] = [100,101,102]
df.loc[3, ['A','C','E']] = [200,201,202]

del(df['E'])

# df.drop('F')     #에러
df = df.drop('F', axis=1)
# df.drop(5, axis=1)     #에러
df = df.drop(5)

print(df)


# Boolean Indexing
df = pd.DataFrame(
     [['kim', 20, '1111-2222'],
      ['lee', 30, '2222-3333'],
      ['park', 35, '3333-4444'],
      ['jung', 25, '4444-5555'],
      ['hong', 40, '5555-6666']], columns=['name','age','tel']
)
print(df)

print(df.loc[3, 'name'])
print(df.loc[df['age']>30, ['name','age']])
print(df.loc[df['name'] == 'kim', :])
print(df.loc[(df['age']>20) & (df['age']<40), 'name':'tel'])
print(df.loc[[True, True, False, False, False], "name"])


# 결측값 대체
df['address'] = ['서울', np.nan, np.nan, '수원', None]

print(df.loc[df['address'] == np.nan, 'address'])
print(df.loc[df['address'] == None, 'address'])
print(df.loc[df['address'].isnull(), 'address'])

df.loc[df['address'].isnull(), 'address'] = '서울'

df.loc[::2, 'address'] = ''
df.loc[df['address'] == '', 'address'] = '서울'

print(df)


# 결측값 제거
df = pd.DataFrame(
     [['kim', 20, '1111-2222', '서울'],
      ['lee', 30, '2222-3333', np.nan],
      ['park', 35, '3333-4444', '수원'],
      ['jung', 25, '4444-5555', np.nan],
      ['hong', 40, '5555-6666', np.nan]], columns=['name','age','tel','address']
)
df.loc[5, :] = [np.nan, np.nan, np.nan, np.nan]

# df.dropna(how='all', inplace=True)
# df.dropna(how='any', inplace=True)

df['income'] = [300, np.nan, 400, 500, np.nan, 600]
df.fillna({'address':'서울'}, inplace=True)
df.fillna({'income':np.mean(df['income'])}, inplace=True)

df.drop([4,5], inplace=True)
df.drop(['address', 'income'], axis=1, inplace=True)

print(df)

#print(df.T)
print(df.transpose())         #전치행렬


# Pandas 함수
df = pd.DataFrame(
    [['kim', 90, 80, 70],
     ['lee', 45, np.nan, 55],
     ['park', 76, 77, 83],
     ['hong', np.nan, np.nan, 77],
     ['kang', 35, 58, 52],
     ['jang', np.nan, np.nan, np.nan]], columns = ['name', 'kor', 'eng', 'mat']
)    
print(df)

# print(df.count())
# print(df.count(axis=1))

# print(df.min())
# print(df.loc[:, 'kor':'mat'].min(axis=1))
# print(df.max())
# print(df.loc[:, 'kor' : 'mat'].mean())
# print(df.loc[:, 'kor' : 'mat'].mean(axis=1))

# print(df.sum())
# print(df.loc[:, 'kor' : 'mat'].sum(axis=1))

# print(df.loc[:, 'kor' : 'mat'].median())    #중간값
# print(df.loc[:, 'kor' : 'mat'].cumsum())    #누적합
# print(df.loc[:, 'kor' : 'mat'].cumprod())
# print(df.idxmax())            #최댓값 인덱스
# print(df.idxmin())

# print(df.loc[:, 'kor' : 'mat'].var())    #분산
# print(df.loc[:, 'kor' : 'mat'].std())    #표준편차

# df['tot'] = df.loc[:, 'kor' : 'mat'].sum(axis=1)
# df['avg'] = df.loc[:, 'kor' : 'mat'].mean(axis=1)

print(df['kor'].corr(df['eng']))
#1 양의 상관관계
#0 상관관계가 낮다
#-1 음의 상관관계

print(df)



