# Numpy
# Numerical Python
# 고성능 수치 계산을 위한 라이브러리
# 벡터나 행렬 연산에 편리한 기능 제공
# 모든 원소는 같은 자료형만 가능


import numpy as np
a = np.arange(15)
print(a)
a = a.reshape(3,5, order='F')     #C:행부터 할당 / F:열부터 할당
print(a)
print(type(a))
print(a.shape) #열과 행
print(a.dtype)
print(a.ndim) # 몇 차원인지
print(a.size) # 개수

# print(help(np))


b = [-2,5,11,-8,9,7,0,4,-6,10]     #List
print(type(b))
b = np.array(b)
print(type(b))

t = (10,20,30,40,50)               #Tuple
print(type(t))
t = np.array(t)
print(type(t))

s = {10,20,30,40,50}               #set
print(type(s))
s = np.array(s)
print(type(s))


print(b.shape)
print(b.ndim)
print(b.dtype)
print(b)

print(np.abs(b))               #절댓값
print(np.sqrt(np.abs(b)))      #제곱근 (음수는 nan)
print(np.square(b))            #제곱
print(np.isnan(b))             #nan 여부
print(np.sum(b))               #합계
print(np.mean(b))              #평균
print(np.max(b))               #최댓값
print(np.min(b))               #최솟값     
print(np.argmax(b))            #최댓값 인덱스
print(np.argmin(b))            #최솟값 인덱스
print(np.sort(b))              #정렬 오름차순
print(np.sort(b)[::-1])        #정렬 내림차순
print(np.median(b))            #중간값 




































