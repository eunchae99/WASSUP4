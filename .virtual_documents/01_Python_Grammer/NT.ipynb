# Numpy
# Numerical Python
# 고성능 수치 계산을 위한 라이브러리
# 벡터나 행렬 연산에 편리한 기능 제공
# 모든 원소는 같은 자료형만 가능


import numpy as np
a = np.arange(15)
print(a)
a = a.reshape(3,5, order='F')     #C:행부터 할당 / F:열부터 할당
print(a)
print(type(a))
print(a.shape) #열과 행
print(a.dtype)
print(a.ndim) # 몇 차원인지
print(a.size) # 개수

# print(help(np))


b = [-2,5,11,-8,9,7,0,4,-6,10]     #List
print(type(b))
b = np.array(b)
print(type(b))

t = (10,20,30,40,50)               #Tuple
print(type(t))
t = np.array(t)
print(type(t))

s = {10,20,30,40,50}               #set
print(type(s))
s = np.array(s)
print(type(s))


print(b.shape)
print(b.ndim)
print(b.dtype)
print(b)

print(np.abs(b))               #절댓값
print(np.sqrt(np.abs(b)))      #제곱근 (음수는 nan)
print(np.square(b))            #제곱
print(np.isnan(b))             #nan 여부
print(np.sum(b))               #합계
print(np.mean(b))              #평균
print(np.max(b))               #최댓값
print(np.min(b))               #최솟값     
print(np.argmax(b))            #최댓값 인덱스
print(np.argmin(b))            #최솟값 인덱스
print(np.sort(b))              #정렬 오름차순
print(np.sort(b)[::-1])        #정렬 내림차순
print(np.median(b))            #중간값 


c = [[1,2,3], [4,5,6]]
print(type(c))
print(c)
c = np.array(c)
print(type(c))
print(c)

print(np.sum(c))
print(np.sum(c, axis=0))  #행끼리 덧셈
print(np.sum(c, axis=1))  #열끼리 덧셈
print(np.mean(c))
print(np.mean(c, axis=0)) #행끼리 평균
print(np.mean(c, axis=1)) #열끼리 평균
print(np.median(c))
print(np.median(c, axis=0))
print(np.median(c, axis=1))
print(np.max(c))
print(np.max(c, axis=0))
print(np.max(c, axis=1))

print(np.std(c))   #표준편차
print(np.var(c))   #분산


#element wise
d = [10,20,30,40,50]
#print(d+2)  #리스트와 숫자는 더할 수 없음
d = np.array(d)
print(d+2)

e = np.array([1,2,3,4,5])
print(d+e)
print(d**2)  #제곱
print(d * np.sin(d))
print(d > 35)

print(np.add(d,e))
print(np.subtract(d,e))
print(np.multiply(d,e))
print(np.divide(d,e))


f = np.array([[0,1],[1,1]])
g = np.array([[2,0],[3,4]])
print(f*g)
print(f@g)           #행렬곱
print(np.dot(f,g))   #행렬곱
print(f.dot(g))      #행렬곱


h = np.zeros(10)
print(h)
i = np.zeros((5,5))
print(i)
j = np.ones(10)
print(j)

# np.random.random    0~1 사이의 난수 발생
# np.random.randint  균일 분포의 정수 난수 발생
# np.random.rand      0~1 사이의 균일 분포 난수 matrix array 생성
# np.random.randn    가우시언 표준 정규 분포 난수 matrix array 생성
# np.random.normal   평균, 표준편차, sample 개수

k = np.random.random(10) *100
k = np.array([int(i) for i in k])
print(type(k))
print(k)

print(np.random.randint(10,20))
print(np.random.rand(5,2))


# 슬라이싱
m = [i for i in range(10,20)] 
print(m[0:5])              #[시작 : 끝-1 : 간격]
print(m[0:5:2]) 
print(m[:])
print(m[5:])
print(m[:-1])
print(m[::-1])

# ndarray
w = np.arange(10,20)
print(w[0:5])
print(w[0:5:2])
print(w[:-2])


r = [[1,2,3,4,5], [6,7,8,9,10], [11,12,13,14,15]] 
print(r[2][2])
print(r[:][:])
print(r[2][:])
print(r[1][:2])
print(r[:2][:2])
# print(s[:,:])        #에러
 
s = np.arange(1,16).reshape(3,5)
print(s)
print(s[2][2])
print(s[:][:])
print(s[2][:])
print(s[:2][:1])

print(s[:,:])
print(s[:2,:2])
print(s[2,2])
print(s[::-1,::-1])

print(s[[0,2]])
print(s[:,[1,3,4]])
print(s[[0,2],[3,4]])


# 전치 행렬
print(s)        # 3행 5열
print(s.T)     # 5행 3열


# 결합 / 분리
a = [1,2,3]
b = [4,5,6]
for ab in zip(a,b):
    print(ab)
print(list(zip(a,b)))
print(a+b)   #리스트는 합쳐짐 (연산X)
print(a*2)
# print(a+2)  #에러


c = np.floor(np.random.rand(2,2) * 100)
print(c)
d = np.floor(np.random.rand(2,2) * 100)
print(d)
print(np.hstack((c,d)))    #수평으로 합침 (가로)
print(np.vstack((c,d)))    #수직으로 합침 (세로)
print(c+d)    #넘파이는 더해짐
print(c+2)


e = np.floor(np.random.rand(2,15) * 100)
print(e)
print(np.hsplit(e,3))      #3개로 분할
for arr in np.hsplit(e,3):
    print(arr)
for arr in np.hsplit(e, (3,7)):       # [0:3] [3:7] [7:]
    print(arr)


f = np.array([1,2,3,4,5])
g = np.array(['A', 'B', 'C', 'D', 'E'])
h = np.array([True, True, False, False, True])
#삼항연산         조건 ? 참 : 거짓
#                 참 if 조건 else 거짓
print([x if z else y for x,y,z in zip(f,g,h)])

print(np.where(h,f,g))
print(np.where(f < 3, '작다', '크다'))
print(np.where(h, '참', '거짓'))


# i = np.arange(10)
# np.save('i.npy', i)
# ii = np.load('i.npy')
# print(type(ii))

# j = np.arange(10)
# k = np.arange(10)
# np.savez('jk.npz', x=j, y=k)
# jk = np.load('jk.npz')
# print(type(jk))
# print(jk['x'])
# print(jk['y'])















