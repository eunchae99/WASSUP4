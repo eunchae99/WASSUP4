{
 "cells": [
  {
   "cell_type": "code",
   "execution_count": null,
   "id": "8d090b74-6df5-43f4-ad3c-4fed084f4986",
   "metadata": {},
   "outputs": [],
   "source": [
    "# Numpy\n",
    "# Numerical Python\n",
    "# 고성능 수치 계산을 위한 라이브러리\n",
    "# 벡터나 행렬 연산에 편리한 기능 제공\n",
    "# 모든 원소는 같은 자료형만 가능"
   ]
  },
  {
   "cell_type": "code",
   "execution_count": 6,
   "id": "8e3c4783-339f-4d6a-b716-6b353b4fd27f",
   "metadata": {},
   "outputs": [
    {
     "name": "stdout",
     "output_type": "stream",
     "text": [
      "[ 0  1  2  3  4  5  6  7  8  9 10 11 12 13 14]\n",
      "[[ 0  3  6  9 12]\n",
      " [ 1  4  7 10 13]\n",
      " [ 2  5  8 11 14]]\n",
      "<class 'numpy.ndarray'>\n",
      "(3, 5)\n",
      "int32\n",
      "2\n",
      "15\n"
     ]
    }
   ],
   "source": [
    "import numpy as np\n",
    "a = np.arange(15)\n",
    "print(a)\n",
    "a = a.reshape(3,5, order='F')     #C:행부터 할당 / F:열부터 할당\n",
    "print(a)\n",
    "print(type(a))\n",
    "print(a.shape) #열과 행\n",
    "print(a.dtype)\n",
    "print(a.ndim) # 몇 차원인지\n",
    "print(a.size) # 개수\n",
    "\n",
    "# print(help(np))"
   ]
  },
  {
   "cell_type": "code",
   "execution_count": 8,
   "id": "d36a0494-571a-43c8-92e0-0a999c4653f3",
   "metadata": {},
   "outputs": [
    {
     "name": "stdout",
     "output_type": "stream",
     "text": [
      "<class 'list'>\n",
      "<class 'numpy.ndarray'>\n",
      "<class 'tuple'>\n",
      "<class 'numpy.ndarray'>\n",
      "<class 'set'>\n",
      "<class 'numpy.ndarray'>\n"
     ]
    }
   ],
   "source": [
    "b = [-2,5,11,-8,9,7,0,4,-6,10]     #List\n",
    "print(type(b))\n",
    "b = np.array(b)\n",
    "print(type(b))\n",
    "\n",
    "t = (10,20,30,40,50)               #Tuple\n",
    "print(type(t))\n",
    "t = np.array(t)\n",
    "print(type(t))\n",
    "\n",
    "s = {10,20,30,40,50}               #set\n",
    "print(type(s))\n",
    "s = np.array(s)\n",
    "print(type(s))"
   ]
  },
  {
   "cell_type": "code",
   "execution_count": 10,
   "id": "3862da06-7f81-401b-86ec-24b2c0b292d3",
   "metadata": {},
   "outputs": [
    {
     "name": "stdout",
     "output_type": "stream",
     "text": [
      "(10,)\n",
      "1\n",
      "int32\n",
      "[-2  5 11 -8  9  7  0  4 -6 10]\n",
      "[ 2  5 11  8  9  7  0  4  6 10]\n",
      "[1.41421356 2.23606798 3.31662479 2.82842712 3.         2.64575131\n",
      " 0.         2.         2.44948974 3.16227766]\n",
      "[  4  25 121  64  81  49   0  16  36 100]\n",
      "[False False False False False False False False False False]\n",
      "30\n",
      "3.0\n",
      "11\n",
      "-8\n",
      "2\n",
      "3\n",
      "[-8 -6 -2  0  4  5  7  9 10 11]\n",
      "[11 10  9  7  5  4  0 -2 -6 -8]\n",
      "4.5\n"
     ]
    }
   ],
   "source": [
    "print(b.shape)\n",
    "print(b.ndim)\n",
    "print(b.dtype)\n",
    "print(b)\n",
    "\n",
    "print(np.abs(b))               #절댓값\n",
    "print(np.sqrt(np.abs(b)))      #제곱근 (음수는 nan)\n",
    "print(np.square(b))            #제곱\n",
    "print(np.isnan(b))             #nan 여부\n",
    "print(np.sum(b))               #합계\n",
    "print(np.mean(b))              #평균\n",
    "print(np.max(b))               #최댓값\n",
    "print(np.min(b))               #최솟값     \n",
    "print(np.argmax(b))            #최댓값 인덱스\n",
    "print(np.argmin(b))            #최솟값 인덱스\n",
    "print(np.sort(b))              #정렬 오름차순\n",
    "print(np.sort(b)[::-1])        #정렬 내림차순\n",
    "print(np.median(b))            #중간값 "
   ]
  },
  {
   "cell_type": "code",
   "execution_count": null,
   "id": "8e29d4a8-0955-43b3-b5ab-7fbd9abd86b8",
   "metadata": {},
   "outputs": [],
   "source": []
  },
  {
   "cell_type": "code",
   "execution_count": null,
   "id": "33755d56-5789-499b-9eb0-9d3987e595dc",
   "metadata": {},
   "outputs": [],
   "source": []
  },
  {
   "cell_type": "code",
   "execution_count": null,
   "id": "f62339d4-b536-430c-b2c4-b96f7fb4f425",
   "metadata": {},
   "outputs": [],
   "source": []
  },
  {
   "cell_type": "code",
   "execution_count": null,
   "id": "e19281b8-73cf-491d-830f-fae9f4c8a618",
   "metadata": {},
   "outputs": [],
   "source": []
  },
  {
   "cell_type": "code",
   "execution_count": null,
   "id": "1c3482c1-73aa-486f-b479-b4a9b5a52e0c",
   "metadata": {},
   "outputs": [],
   "source": []
  },
  {
   "cell_type": "code",
   "execution_count": null,
   "id": "6d2b1e25-a787-49a8-8fea-a53bd7e3c31b",
   "metadata": {},
   "outputs": [],
   "source": []
  },
  {
   "cell_type": "code",
   "execution_count": null,
   "id": "bcf6e71a-4386-4c49-aff1-74dc3382a986",
   "metadata": {},
   "outputs": [],
   "source": []
  },
  {
   "cell_type": "code",
   "execution_count": null,
   "id": "0f0213a2-d5ef-41bc-954f-ffd31c20c74d",
   "metadata": {},
   "outputs": [],
   "source": []
  },
  {
   "cell_type": "code",
   "execution_count": null,
   "id": "a8e5f05d-1a0e-4334-9c73-126519a0c29e",
   "metadata": {},
   "outputs": [],
   "source": []
  },
  {
   "cell_type": "code",
   "execution_count": null,
   "id": "e23d5834-136b-4894-a038-e6bb1b1ade81",
   "metadata": {},
   "outputs": [],
   "source": []
  },
  {
   "cell_type": "code",
   "execution_count": null,
   "id": "c002a7ea-f219-4006-8a86-6b07501ceeb1",
   "metadata": {},
   "outputs": [],
   "source": []
  },
  {
   "cell_type": "code",
   "execution_count": null,
   "id": "363dccc8-5faf-49d7-b9ee-aaa1685de492",
   "metadata": {},
   "outputs": [],
   "source": []
  }
 ],
 "metadata": {
  "kernelspec": {
   "display_name": "Python 3 (ipykernel)",
   "language": "python",
   "name": "python3"
  },
  "language_info": {
   "codemirror_mode": {
    "name": "ipython",
    "version": 3
   },
   "file_extension": ".py",
   "mimetype": "text/x-python",
   "name": "python",
   "nbconvert_exporter": "python",
   "pygments_lexer": "ipython3",
   "version": "3.12.4"
  }
 },
 "nbformat": 4,
 "nbformat_minor": 5
}
