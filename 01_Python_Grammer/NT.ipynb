{
 "cells": [
  {
   "cell_type": "code",
   "execution_count": 2,
   "id": "8d090b74-6df5-43f4-ad3c-4fed084f4986",
   "metadata": {},
   "outputs": [],
   "source": [
    "# Numpy\n",
    "# Numerical Python\n",
    "# 고성능 수치 계산을 위한 라이브러리\n",
    "# 벡터나 행렬 연산에 편리한 기능 제공\n",
    "# 모든 원소는 같은 자료형만 가능"
   ]
  },
  {
   "cell_type": "code",
   "execution_count": 3,
   "id": "8e3c4783-339f-4d6a-b716-6b353b4fd27f",
   "metadata": {},
   "outputs": [
    {
     "name": "stdout",
     "output_type": "stream",
     "text": [
      "[ 0  1  2  3  4  5  6  7  8  9 10 11 12 13 14]\n",
      "[[ 0  3  6  9 12]\n",
      " [ 1  4  7 10 13]\n",
      " [ 2  5  8 11 14]]\n",
      "<class 'numpy.ndarray'>\n",
      "(3, 5)\n",
      "int32\n",
      "2\n",
      "15\n"
     ]
    }
   ],
   "source": [
    "import numpy as np\n",
    "a = np.arange(15)\n",
    "print(a)\n",
    "a = a.reshape(3,5, order='F')     #C:행부터 할당 / F:열부터 할당\n",
    "print(a)\n",
    "print(type(a))\n",
    "print(a.shape) #열과 행\n",
    "print(a.dtype)\n",
    "print(a.ndim) # 몇 차원인지\n",
    "print(a.size) # 개수\n",
    "\n",
    "# print(help(np))"
   ]
  },
  {
   "cell_type": "code",
   "execution_count": 4,
   "id": "d36a0494-571a-43c8-92e0-0a999c4653f3",
   "metadata": {},
   "outputs": [
    {
     "name": "stdout",
     "output_type": "stream",
     "text": [
      "<class 'list'>\n",
      "<class 'numpy.ndarray'>\n",
      "<class 'tuple'>\n",
      "<class 'numpy.ndarray'>\n",
      "<class 'set'>\n",
      "<class 'numpy.ndarray'>\n"
     ]
    }
   ],
   "source": [
    "b = [-2,5,11,-8,9,7,0,4,-6,10]     #List\n",
    "print(type(b))\n",
    "b = np.array(b)\n",
    "print(type(b))\n",
    "\n",
    "t = (10,20,30,40,50)               #Tuple\n",
    "print(type(t))\n",
    "t = np.array(t)\n",
    "print(type(t))\n",
    "\n",
    "s = {10,20,30,40,50}               #set\n",
    "print(type(s))\n",
    "s = np.array(s)\n",
    "print(type(s))"
   ]
  },
  {
   "cell_type": "code",
   "execution_count": 5,
   "id": "3862da06-7f81-401b-86ec-24b2c0b292d3",
   "metadata": {},
   "outputs": [
    {
     "name": "stdout",
     "output_type": "stream",
     "text": [
      "(10,)\n",
      "1\n",
      "int32\n",
      "[-2  5 11 -8  9  7  0  4 -6 10]\n",
      "[ 2  5 11  8  9  7  0  4  6 10]\n",
      "[1.41421356 2.23606798 3.31662479 2.82842712 3.         2.64575131\n",
      " 0.         2.         2.44948974 3.16227766]\n",
      "[  4  25 121  64  81  49   0  16  36 100]\n",
      "[False False False False False False False False False False]\n",
      "30\n",
      "3.0\n",
      "11\n",
      "-8\n",
      "2\n",
      "3\n",
      "[-8 -6 -2  0  4  5  7  9 10 11]\n",
      "[11 10  9  7  5  4  0 -2 -6 -8]\n",
      "4.5\n"
     ]
    }
   ],
   "source": [
    "print(b.shape)\n",
    "print(b.ndim)\n",
    "print(b.dtype)\n",
    "print(b)\n",
    "\n",
    "print(np.abs(b))               #절댓값\n",
    "print(np.sqrt(np.abs(b)))      #제곱근 (음수는 nan)\n",
    "print(np.square(b))            #제곱\n",
    "print(np.isnan(b))             #nan 여부\n",
    "print(np.sum(b))               #합계\n",
    "print(np.mean(b))              #평균\n",
    "print(np.max(b))               #최댓값\n",
    "print(np.min(b))               #최솟값     \n",
    "print(np.argmax(b))            #최댓값 인덱스\n",
    "print(np.argmin(b))            #최솟값 인덱스\n",
    "print(np.sort(b))              #정렬 오름차순\n",
    "print(np.sort(b)[::-1])        #정렬 내림차순\n",
    "print(np.median(b))            #중간값 "
   ]
  },
  {
   "cell_type": "code",
   "execution_count": 6,
   "id": "8e29d4a8-0955-43b3-b5ab-7fbd9abd86b8",
   "metadata": {},
   "outputs": [
    {
     "name": "stdout",
     "output_type": "stream",
     "text": [
      "<class 'list'>\n",
      "[[1, 2, 3], [4, 5, 6]]\n",
      "<class 'numpy.ndarray'>\n",
      "[[1 2 3]\n",
      " [4 5 6]]\n",
      "21\n",
      "[5 7 9]\n",
      "[ 6 15]\n",
      "3.5\n",
      "[2.5 3.5 4.5]\n",
      "[2. 5.]\n",
      "3.5\n",
      "[2.5 3.5 4.5]\n",
      "[2. 5.]\n",
      "6\n",
      "[4 5 6]\n",
      "[3 6]\n",
      "1.707825127659933\n",
      "2.9166666666666665\n"
     ]
    }
   ],
   "source": [
    "c = [[1,2,3], [4,5,6]]\n",
    "print(type(c))\n",
    "print(c)\n",
    "c = np.array(c)\n",
    "print(type(c))\n",
    "print(c)\n",
    "\n",
    "print(np.sum(c))\n",
    "print(np.sum(c, axis=0))  #행끼리 덧셈\n",
    "print(np.sum(c, axis=1))  #열끼리 덧셈\n",
    "print(np.mean(c))\n",
    "print(np.mean(c, axis=0)) #행끼리 평균\n",
    "print(np.mean(c, axis=1)) #열끼리 평균\n",
    "print(np.median(c))\n",
    "print(np.median(c, axis=0))\n",
    "print(np.median(c, axis=1))\n",
    "print(np.max(c))\n",
    "print(np.max(c, axis=0))\n",
    "print(np.max(c, axis=1))\n",
    "\n",
    "print(np.std(c))   #표준편차\n",
    "print(np.var(c))   #분산"
   ]
  },
  {
   "cell_type": "code",
   "execution_count": 7,
   "id": "33755d56-5789-499b-9eb0-9d3987e595dc",
   "metadata": {},
   "outputs": [
    {
     "name": "stdout",
     "output_type": "stream",
     "text": [
      "[12 22 32 42 52]\n",
      "[11 22 33 44 55]\n",
      "[ 100  400  900 1600 2500]\n",
      "[ -5.44021111  18.25890501 -29.64094872  29.80452642 -13.11874269]\n",
      "[False False False  True  True]\n",
      "[11 22 33 44 55]\n",
      "[ 9 18 27 36 45]\n",
      "[ 10  40  90 160 250]\n",
      "[10. 10. 10. 10. 10.]\n"
     ]
    }
   ],
   "source": [
    "#element wise\n",
    "d = [10,20,30,40,50]\n",
    "#print(d+2)  #리스트와 숫자는 더할 수 없음\n",
    "d = np.array(d)\n",
    "print(d+2)\n",
    "\n",
    "e = np.array([1,2,3,4,5])\n",
    "print(d+e)\n",
    "print(d**2)  #제곱\n",
    "print(d * np.sin(d))\n",
    "print(d > 35)\n",
    "\n",
    "print(np.add(d,e))\n",
    "print(np.subtract(d,e))\n",
    "print(np.multiply(d,e))\n",
    "print(np.divide(d,e))"
   ]
  },
  {
   "cell_type": "code",
   "execution_count": 8,
   "id": "f62339d4-b536-430c-b2c4-b96f7fb4f425",
   "metadata": {},
   "outputs": [
    {
     "name": "stdout",
     "output_type": "stream",
     "text": [
      "[[0 0]\n",
      " [3 4]]\n",
      "[[3 4]\n",
      " [5 4]]\n",
      "[[3 4]\n",
      " [5 4]]\n",
      "[[3 4]\n",
      " [5 4]]\n"
     ]
    }
   ],
   "source": [
    "f = np.array([[0,1],[1,1]])\n",
    "g = np.array([[2,0],[3,4]])\n",
    "print(f*g)\n",
    "print(f@g)           #행렬곱\n",
    "print(np.dot(f,g))   #행렬곱\n",
    "print(f.dot(g))      #행렬곱"
   ]
  },
  {
   "cell_type": "code",
   "execution_count": 9,
   "id": "e19281b8-73cf-491d-830f-fae9f4c8a618",
   "metadata": {},
   "outputs": [
    {
     "name": "stdout",
     "output_type": "stream",
     "text": [
      "[0. 0. 0. 0. 0. 0. 0. 0. 0. 0.]\n",
      "[[0. 0. 0. 0. 0.]\n",
      " [0. 0. 0. 0. 0.]\n",
      " [0. 0. 0. 0. 0.]\n",
      " [0. 0. 0. 0. 0.]\n",
      " [0. 0. 0. 0. 0.]]\n",
      "[1. 1. 1. 1. 1. 1. 1. 1. 1. 1.]\n",
      "<class 'numpy.ndarray'>\n",
      "[65  8 29 25 45 58 78 74 60 22]\n",
      "16\n",
      "[[0.56277309 0.0445195 ]\n",
      " [0.29953375 0.2203555 ]\n",
      " [0.88835276 0.57744474]\n",
      " [0.47903391 0.9774543 ]\n",
      " [0.45301909 0.56745353]]\n"
     ]
    }
   ],
   "source": [
    "h = np.zeros(10)\n",
    "print(h)\n",
    "i = np.zeros((5,5))\n",
    "print(i)\n",
    "j = np.ones(10)\n",
    "print(j)\n",
    "\n",
    "# np.random.random    0~1 사이의 난수 발생\n",
    "# np.random.randint  균일 분포의 정수 난수 발생\n",
    "# np.random.rand      0~1 사이의 균일 분포 난수 matrix array 생성\n",
    "# np.random.randn    가우시언 표준 정규 분포 난수 matrix array 생성\n",
    "# np.random.normal   평균, 표준편차, sample 개수\n",
    "\n",
    "k = np.random.random(10) *100\n",
    "k = np.array([int(i) for i in k])\n",
    "print(type(k))\n",
    "print(k)\n",
    "\n",
    "print(np.random.randint(10,20))\n",
    "print(np.random.rand(5,2))"
   ]
  },
  {
   "cell_type": "code",
   "execution_count": 10,
   "id": "1c3482c1-73aa-486f-b479-b4a9b5a52e0c",
   "metadata": {},
   "outputs": [
    {
     "name": "stdout",
     "output_type": "stream",
     "text": [
      "[10, 11, 12, 13, 14]\n",
      "[10, 12, 14]\n",
      "[10, 11, 12, 13, 14, 15, 16, 17, 18, 19]\n",
      "[15, 16, 17, 18, 19]\n",
      "[10, 11, 12, 13, 14, 15, 16, 17, 18]\n",
      "[19, 18, 17, 16, 15, 14, 13, 12, 11, 10]\n",
      "[10 11 12 13 14]\n",
      "[10 12 14]\n",
      "[10 11 12 13 14 15 16 17]\n"
     ]
    }
   ],
   "source": [
    "# 슬라이싱\n",
    "m = [i for i in range(10,20)] \n",
    "print(m[0:5])              #[시작 : 끝-1 : 간격]\n",
    "print(m[0:5:2]) \n",
    "print(m[:])\n",
    "print(m[5:])\n",
    "print(m[:-1])\n",
    "print(m[::-1])\n",
    "\n",
    "# ndarray\n",
    "w = np.arange(10,20)\n",
    "print(w[0:5])\n",
    "print(w[0:5:2])\n",
    "print(w[:-2])"
   ]
  },
  {
   "cell_type": "code",
   "execution_count": 11,
   "id": "6d2b1e25-a787-49a8-8fea-a53bd7e3c31b",
   "metadata": {},
   "outputs": [
    {
     "name": "stdout",
     "output_type": "stream",
     "text": [
      "13\n",
      "[[1, 2, 3, 4, 5], [6, 7, 8, 9, 10], [11, 12, 13, 14, 15]]\n",
      "[11, 12, 13, 14, 15]\n",
      "[6, 7]\n",
      "[[1, 2, 3, 4, 5], [6, 7, 8, 9, 10]]\n",
      "[[ 1  2  3  4  5]\n",
      " [ 6  7  8  9 10]\n",
      " [11 12 13 14 15]]\n",
      "13\n",
      "[[ 1  2  3  4  5]\n",
      " [ 6  7  8  9 10]\n",
      " [11 12 13 14 15]]\n",
      "[11 12 13 14 15]\n",
      "[[1 2 3 4 5]]\n",
      "[[ 1  2  3  4  5]\n",
      " [ 6  7  8  9 10]\n",
      " [11 12 13 14 15]]\n",
      "[[1 2]\n",
      " [6 7]]\n",
      "13\n",
      "[[15 14 13 12 11]\n",
      " [10  9  8  7  6]\n",
      " [ 5  4  3  2  1]]\n",
      "[[ 1  2  3  4  5]\n",
      " [11 12 13 14 15]]\n",
      "[[ 2  4  5]\n",
      " [ 7  9 10]\n",
      " [12 14 15]]\n",
      "[ 4 15]\n"
     ]
    }
   ],
   "source": [
    "r = [[1,2,3,4,5], [6,7,8,9,10], [11,12,13,14,15]] \n",
    "print(r[2][2])\n",
    "print(r[:][:])\n",
    "print(r[2][:])\n",
    "print(r[1][:2])\n",
    "print(r[:2][:2])\n",
    "# print(s[:,:])        #에러\n",
    " \n",
    "s = np.arange(1,16).reshape(3,5)\n",
    "print(s)\n",
    "print(s[2][2])\n",
    "print(s[:][:])\n",
    "print(s[2][:])\n",
    "print(s[:2][:1])\n",
    "\n",
    "print(s[:,:])\n",
    "print(s[:2,:2])\n",
    "print(s[2,2])\n",
    "print(s[::-1,::-1])\n",
    "\n",
    "print(s[[0,2]])\n",
    "print(s[:,[1,3,4]])\n",
    "print(s[[0,2],[3,4]])"
   ]
  },
  {
   "cell_type": "code",
   "execution_count": 12,
   "id": "bcf6e71a-4386-4c49-aff1-74dc3382a986",
   "metadata": {},
   "outputs": [
    {
     "name": "stdout",
     "output_type": "stream",
     "text": [
      "[[ 1  2  3  4  5]\n",
      " [ 6  7  8  9 10]\n",
      " [11 12 13 14 15]]\n",
      "[[ 1  6 11]\n",
      " [ 2  7 12]\n",
      " [ 3  8 13]\n",
      " [ 4  9 14]\n",
      " [ 5 10 15]]\n"
     ]
    }
   ],
   "source": [
    "# 전치 행렬\n",
    "print(s)        # 3행 5열\n",
    "print(s.T)     # 5행 3열"
   ]
  },
  {
   "cell_type": "code",
   "execution_count": 47,
   "id": "0f0213a2-d5ef-41bc-954f-ffd31c20c74d",
   "metadata": {},
   "outputs": [
    {
     "name": "stdout",
     "output_type": "stream",
     "text": [
      "(1, 4)\n",
      "(2, 5)\n",
      "(3, 6)\n",
      "[(1, 4), (2, 5), (3, 6)]\n",
      "[1, 2, 3, 4, 5, 6]\n",
      "[1, 2, 3, 1, 2, 3]\n"
     ]
    }
   ],
   "source": [
    "# 결합 / 분리\n",
    "a = [1,2,3]\n",
    "b = [4,5,6]\n",
    "for ab in zip(a,b):\n",
    "    print(ab)\n",
    "print(list(zip(a,b)))\n",
    "print(a+b)   #리스트는 합쳐짐 (연산X)\n",
    "print(a*2)\n",
    "# print(a+2)  #에러"
   ]
  },
  {
   "cell_type": "code",
   "execution_count": 49,
   "id": "a8e5f05d-1a0e-4334-9c73-126519a0c29e",
   "metadata": {},
   "outputs": [
    {
     "name": "stdout",
     "output_type": "stream",
     "text": [
      "[[ 5. 58.]\n",
      " [44. 97.]]\n",
      "[[ 8. 47.]\n",
      " [88. 17.]]\n",
      "[[ 5. 58.  8. 47.]\n",
      " [44. 97. 88. 17.]]\n",
      "[[ 5. 58.]\n",
      " [44. 97.]\n",
      " [ 8. 47.]\n",
      " [88. 17.]]\n",
      "[[ 13. 105.]\n",
      " [132. 114.]]\n",
      "[[ 7. 60.]\n",
      " [46. 99.]]\n"
     ]
    }
   ],
   "source": [
    "c = np.floor(np.random.rand(2,2) * 100)\n",
    "print(c)\n",
    "d = np.floor(np.random.rand(2,2) * 100)\n",
    "print(d)\n",
    "print(np.hstack((c,d)))    #수평으로 합침 (가로)\n",
    "print(np.vstack((c,d)))    #수직으로 합침 (세로)\n",
    "print(c+d)    #넘파이는 더해짐\n",
    "print(c+2)"
   ]
  },
  {
   "cell_type": "code",
   "execution_count": 57,
   "id": "e23d5834-136b-4894-a038-e6bb1b1ade81",
   "metadata": {},
   "outputs": [
    {
     "name": "stdout",
     "output_type": "stream",
     "text": [
      "[[30. 63. 30. 67. 99. 94. 71.  2. 50. 27. 12. 43. 71. 79. 68.]\n",
      " [86. 63.  3. 10. 77. 93. 63. 31. 27. 35. 30. 66. 84. 46. 76.]]\n",
      "[array([[30., 63., 30., 67., 99.],\n",
      "       [86., 63.,  3., 10., 77.]]), array([[94., 71.,  2., 50., 27.],\n",
      "       [93., 63., 31., 27., 35.]]), array([[12., 43., 71., 79., 68.],\n",
      "       [30., 66., 84., 46., 76.]])]\n",
      "[[30. 63. 30. 67. 99.]\n",
      " [86. 63.  3. 10. 77.]]\n",
      "[[94. 71.  2. 50. 27.]\n",
      " [93. 63. 31. 27. 35.]]\n",
      "[[12. 43. 71. 79. 68.]\n",
      " [30. 66. 84. 46. 76.]]\n",
      "[[30. 63. 30.]\n",
      " [86. 63.  3.]]\n",
      "[[67. 99. 94. 71.]\n",
      " [10. 77. 93. 63.]]\n",
      "[[ 2. 50. 27. 12. 43. 71. 79. 68.]\n",
      " [31. 27. 35. 30. 66. 84. 46. 76.]]\n"
     ]
    }
   ],
   "source": [
    "e = np.floor(np.random.rand(2,15) * 100)\n",
    "print(e)\n",
    "print(np.hsplit(e,3))      #3개로 분할\n",
    "for arr in np.hsplit(e,3):\n",
    "    print(arr)\n",
    "for arr in np.hsplit(e, (3,7)):       # [0:3] [3:7] [7:]\n",
    "    print(arr)"
   ]
  },
  {
   "cell_type": "code",
   "execution_count": 69,
   "id": "c002a7ea-f219-4006-8a86-6b07501ceeb1",
   "metadata": {},
   "outputs": [
    {
     "name": "stdout",
     "output_type": "stream",
     "text": [
      "[1, 2, 'C', 'D', 5]\n",
      "['1' '2' 'C' 'D' '5']\n",
      "['작다' '작다' '크다' '크다' '크다']\n",
      "['참' '참' '거짓' '거짓' '참']\n"
     ]
    }
   ],
   "source": [
    "f = np.array([1,2,3,4,5])\n",
    "g = np.array(['A', 'B', 'C', 'D', 'E'])\n",
    "h = np.array([True, True, False, False, True])\n",
    "#삼항연산         조건 ? 참 : 거짓\n",
    "#                 참 if 조건 else 거짓\n",
    "print([x if z else y for x,y,z in zip(f,g,h)])\n",
    "\n",
    "print(np.where(h,f,g))\n",
    "print(np.where(f < 3, '작다', '크다'))\n",
    "print(np.where(h, '참', '거짓'))"
   ]
  },
  {
   "cell_type": "code",
   "execution_count": null,
   "id": "363dccc8-5faf-49d7-b9ee-aaa1685de492",
   "metadata": {},
   "outputs": [],
   "source": [
    "# i = np.arange(10)\n",
    "# np.save('i.npy', i)\n",
    "# ii = np.load('i.npy')\n",
    "# print(type(ii))\n",
    "\n",
    "# j = np.arange(10)\n",
    "# k = np.arange(10)\n",
    "# np.savez('jk.npz', x=j, y=k)\n",
    "# jk = np.load('jk.npz')\n",
    "# print(type(jk))\n",
    "# print(jk['x'])\n",
    "# print(jk['y'])"
   ]
  },
  {
   "cell_type": "code",
   "execution_count": null,
   "id": "b481432d-1264-4b3d-836e-3135c0ccc899",
   "metadata": {},
   "outputs": [],
   "source": []
  },
  {
   "cell_type": "code",
   "execution_count": null,
   "id": "6f8fc138-65e7-495e-8657-b7aae1c522ca",
   "metadata": {},
   "outputs": [],
   "source": []
  },
  {
   "cell_type": "code",
   "execution_count": null,
   "id": "a28e7d09-6f48-4d1b-bd4d-7de3ea418587",
   "metadata": {},
   "outputs": [],
   "source": []
  },
  {
   "cell_type": "code",
   "execution_count": null,
   "id": "98f2f2ca-bec1-4fd4-a962-a45a499e83a0",
   "metadata": {},
   "outputs": [],
   "source": []
  },
  {
   "cell_type": "code",
   "execution_count": null,
   "id": "aa472e6e-e0b6-47a3-8fbb-39d17bd05f7a",
   "metadata": {},
   "outputs": [],
   "source": []
  }
 ],
 "metadata": {
  "kernelspec": {
   "display_name": "Python 3 (ipykernel)",
   "language": "python",
   "name": "python3"
  },
  "language_info": {
   "codemirror_mode": {
    "name": "ipython",
    "version": 3
   },
   "file_extension": ".py",
   "mimetype": "text/x-python",
   "name": "python",
   "nbconvert_exporter": "python",
   "pygments_lexer": "ipython3",
   "version": "3.12.4"
  }
 },
 "nbformat": 4,
 "nbformat_minor": 5
}
