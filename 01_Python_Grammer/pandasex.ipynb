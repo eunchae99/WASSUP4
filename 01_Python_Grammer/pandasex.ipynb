{
 "cells": [
  {
   "cell_type": "code",
   "execution_count": 1,
   "id": "d80aa3b0-c00e-4e46-be2b-312f8d43ec78",
   "metadata": {},
   "outputs": [],
   "source": [
    "# Pandas\n",
    "# Seris   1차원\n",
    "# DataFrame 2차원"
   ]
  },
  {
   "cell_type": "code",
   "execution_count": 2,
   "id": "2b082fbf-460d-4b47-baf3-29dabfaa8e2f",
   "metadata": {},
   "outputs": [
    {
     "name": "stdout",
     "output_type": "stream",
     "text": [
      "<class 'pandas.core.series.Series'>\n",
      "RangeIndex(start=0, stop=5, step=1)\n",
      "int64\n",
      "0    1\n",
      "1    2\n",
      "2    3\n",
      "3    4\n",
      "4    5\n",
      "dtype: int64\n",
      "A    1\n",
      "B    2\n",
      "C    3\n",
      "D    4\n",
      "E    5\n",
      "dtype: int64\n"
     ]
    }
   ],
   "source": [
    "import pandas as pd\n",
    "import numpy as np\n",
    "\n",
    "#Series\n",
    "s = pd.Series([1,2,3,4,5])\n",
    "print(type(s))\n",
    "print(s.index)\n",
    "print(s.dtype)\n",
    "print(s)\n",
    "\n",
    "s.index = ['A', 'B', 'C', 'D', 'E']   #인덱스 지정\n",
    "print(s)"
   ]
  },
  {
   "cell_type": "code",
   "execution_count": 3,
   "id": "aa482d57-35e4-44db-907e-f3a02e93187a",
   "metadata": {},
   "outputs": [
    {
     "name": "stdout",
     "output_type": "stream",
     "text": [
      "A    1\n",
      "B    2\n",
      "C    3\n",
      "D    4\n",
      "E    5\n",
      "dtype: int64\n",
      "Index(['A', 'B', 'C', 'D', 'E'], dtype='object')\n",
      "[1 2 3 4 5]\n",
      "1\n",
      "1\n",
      "A    1\n",
      "B    2\n",
      "C    3\n",
      "D    4\n",
      "E    5\n",
      "dtype: int64\n",
      "A    1\n",
      "B    2\n",
      "C    3\n",
      "dtype: int64\n"
     ]
    }
   ],
   "source": [
    "s = pd.Series([1,2,3,4,5], ['A', 'B', 'C', 'D', 'E'])\n",
    "print(s)\n",
    "print(s.index)\n",
    "print(s.values)\n",
    "print(s['A'])\n",
    "print(s.A)\n",
    "print(s[0:5])\n",
    "print(s['A':'C'])"
   ]
  },
  {
   "cell_type": "code",
   "execution_count": 4,
   "id": "8f63fd7e-9184-48cb-bf71-f65bc645fcbf",
   "metadata": {},
   "outputs": [
    {
     "name": "stdout",
     "output_type": "stream",
     "text": [
      "<class 'dict'>\n",
      "A : 10\n",
      "D : 20\n",
      "F : 30\n",
      "H : 40\n",
      "10\n",
      "Index(['A', 'D', 'F', 'H'], dtype='object')\n",
      "[10 20 30 40]\n",
      "10\n",
      "10\n",
      "A    10\n",
      "D    20\n",
      "F    30\n",
      "dtype: int64\n",
      "A    10\n",
      "D    20\n",
      "F    30\n",
      "dtype: int64\n"
     ]
    }
   ],
   "source": [
    "#Dictionary (Map, JSON) -> Series\n",
    "d = {'A':10, 'D':20, 'F':30, 'H':40}\n",
    "print(type(d))\n",
    "\n",
    "for key, value in d.items():\n",
    "    print(key, \":\", value)\n",
    "print(d['A'])\n",
    "# print(d.A)  #에러\n",
    "#print(d['A':'F'])   #에러\n",
    "\n",
    "s = pd.Series(d)\n",
    "print(s.index)\n",
    "print(s.values)\n",
    "print(s['A'])\n",
    "print(s.A)\n",
    "print(s[0:3])\n",
    "print(s['A':'F'])"
   ]
  },
  {
   "cell_type": "code",
   "execution_count": 5,
   "id": "6e594a1c-a891-4fc6-b4ad-a3f08e5f823a",
   "metadata": {},
   "outputs": [
    {
     "name": "stdout",
     "output_type": "stream",
     "text": [
      "<class 'dict'>\n",
      "   name  age        tel\n",
      "0   kim   25  1111-2222\n",
      "1   lee   30  2222-3333\n",
      "2  park   35  3333-4444\n",
      "3  jung   20  4444-5555\n",
      "RangeIndex(start=0, stop=4, step=1)\n",
      "Index(['name', 'age', 'tel'], dtype='object')\n",
      "[['kim' 25 '1111-2222']\n",
      " ['lee' 30 '2222-3333']\n",
      " ['park' 35 '3333-4444']\n",
      " ['jung' 20 '4444-5555']]\n",
      "User  name  age        tel\n",
      "Num                       \n",
      "0      kim   25  1111-2222\n",
      "1      lee   30  2222-3333\n",
      "2     park   35  3333-4444\n",
      "3     jung   20  4444-5555\n",
      "RangeIndex(start=0, stop=4, step=1, name='Num')\n",
      "Index(['name', 'age', 'tel'], dtype='object', name='User')\n"
     ]
    }
   ],
   "source": [
    "# DataFrame\n",
    "# Dictionary -> DataFrame\n",
    "d = {\n",
    "    'name': ['kim', 'lee', 'park', 'jung'],\n",
    "    'age': [25,30,35,20],\n",
    "    'tel': ['1111-2222', '2222-3333', '3333-4444', '4444-5555']\n",
    "}\n",
    "print(type(d))\n",
    "\n",
    "df = pd.DataFrame(d)\n",
    "print(df)\n",
    "print(df.index)\n",
    "print(df.columns)\n",
    "print(df.values)\n",
    "df.index.name = 'Num'\n",
    "df.columns.name = 'User'\n",
    "print(df)\n",
    "print(df.index)\n",
    "print(df.columns)"
   ]
  },
  {
   "cell_type": "code",
   "execution_count": 6,
   "id": "6bf6e063-3eff-4536-bd47-d047657d9835",
   "metadata": {},
   "outputs": [
    {
     "name": "stdout",
     "output_type": "stream",
     "text": [
      "<class 'numpy.ndarray'>\n",
      "   name age        tel\n",
      "A   kim  20  1111-2222\n",
      "B   lee  30  2222-3333\n",
      "C  park  35  3333-4444\n",
      "D  jung  25  4444-5555\n",
      "Index(['A', 'B', 'C', 'D'], dtype='object')\n",
      "Index(['name', 'age', 'tel'], dtype='object')\n",
      "   name age        tel\n",
      "A   kim  20  1111-2222\n",
      "B   lee  30  2222-3333\n",
      "C  park  35  3333-4444\n",
      "D  jung  25  4444-5555\n",
      "       name age        tel\n",
      "count     4   4          4\n",
      "unique    4   4          4\n",
      "top     kim  20  1111-2222\n",
      "freq      1   1          1\n"
     ]
    }
   ],
   "source": [
    "#Numpy -> DataFrame\n",
    "n = np.array(\n",
    "    [['kim', 20, '1111-2222'],\n",
    "     ['lee', 30, '2222-3333'],\n",
    "     ['park', 35, '3333-4444'],\n",
    "     ['jung', 25, '4444-5555']]\n",
    ")\n",
    "print(type(n))\n",
    "df = pd.DataFrame(n)\n",
    "\n",
    "df.columns = ['name', 'age', 'tel']\n",
    "df.index = ['A', 'B', 'C', 'D']\n",
    "    \n",
    "print(df)\n",
    "print(df.index)\n",
    "print(df.columns)\n",
    "\n",
    "df = pd.DataFrame(n, columns=['name', 'age', 'tel'], index=['A','B','C','D'])\n",
    "print(df)\n",
    "\n",
    "print(df.describe())\n"
   ]
  },
  {
   "cell_type": "code",
   "execution_count": 7,
   "id": "c4693c88-7b85-4628-ac37-06f49d958570",
   "metadata": {},
   "outputs": [
    {
     "name": "stdout",
     "output_type": "stream",
     "text": [
      "A     kim\n",
      "B     lee\n",
      "C    park\n",
      "D    jung\n",
      "Name: name, dtype: object\n",
      "   name        tel\n",
      "A   kim  1111-2222\n",
      "B   lee  2222-3333\n",
      "C  park  3333-4444\n",
      "D  jung  4444-5555\n",
      "park\n",
      "park\n",
      "park\n",
      "B     lee\n",
      "C    park\n",
      "D    jung\n",
      "Name: name, dtype: object\n",
      "A     kim\n",
      "B     lee\n",
      "C    park\n",
      "D    jung\n",
      "Name: name, dtype: object A    20\n",
      "B    30\n",
      "C    35\n",
      "D    25\n",
      "Name: age, dtype: object\n",
      "park\n"
     ]
    },
    {
     "name": "stderr",
     "output_type": "stream",
     "text": [
      "C:\\Users\\user\\AppData\\Local\\Temp\\ipykernel_6076\\2557948711.py:3: FutureWarning: Series.__getitem__ treating keys as positions is deprecated. In a future version, integer keys will always be treated as labels (consistent with DataFrame behavior). To access a value by position, use `ser.iloc[pos]`\n",
      "  print(df['name'][2])\n"
     ]
    }
   ],
   "source": [
    "print(df['name'])\n",
    "print(df[['name','tel']])\n",
    "print(df['name'][2])\n",
    "print(df['name']['C'])\n",
    "print(df['name'].C)\n",
    "print(df['name']['B':'D'])\n",
    "\n",
    "print(df.name, df.age)\n",
    "print(df.name.C)"
   ]
  },
  {
   "cell_type": "code",
   "execution_count": 8,
   "id": "af5a661e-bb7b-419c-914b-f5072b2713ee",
   "metadata": {},
   "outputs": [
    {
     "name": "stdout",
     "output_type": "stream",
     "text": [
      "   name age        tel\n",
      "A   kim  20  1111-2222\n",
      "B   lee  30  2222-3333\n",
      "C  park  35  3333-4444\n",
      "D  jung  25  4444-5555\n",
      "  name age        tel\n",
      "A  kim  20  1111-2222\n",
      "   name        tel\n",
      "A   kim  1111-2222\n",
      "B   lee  2222-3333\n",
      "C  park  3333-4444\n",
      "D  jung  4444-5555\n"
     ]
    }
   ],
   "source": [
    "print(df[:][:])\n",
    "print(df[:2][:1])\n",
    "print(df[['name','tel']])\n",
    "# print(df[[0, 2]])     #에러 / 컬럼명이 있는 경우 숫자X"
   ]
  },
  {
   "cell_type": "code",
   "execution_count": 9,
   "id": "5ba58edb-40b5-456a-ab61-ff7aad72395b",
   "metadata": {},
   "outputs": [
    {
     "name": "stdout",
     "output_type": "stream",
     "text": [
      "   name age        tel address\n",
      "A   kim  20  1111-2222      서울\n",
      "B   lee  30  2222-3333      수원\n",
      "C  park  35  3333-4444      인천\n",
      "D  jung  25  4444-5555      안산\n"
     ]
    }
   ],
   "source": [
    "df['address'] = ['서울', '수원', '인천', '안산']\n",
    "df['adult'] = df['age'].astype(np.int64) > 30\n",
    "\n",
    "del(df['adult'])\n",
    "\n",
    "print(df)"
   ]
  },
  {
   "cell_type": "code",
   "execution_count": 10,
   "id": "3ad4d97b-74b3-48db-8011-53caad90feac",
   "metadata": {},
   "outputs": [
    {
     "name": "stdout",
     "output_type": "stream",
     "text": [
      "a    10\n",
      "g    20\n",
      "d    40\n",
      "f    50\n",
      "c    60\n",
      "b    70\n",
      "dtype: int64\n"
     ]
    }
   ],
   "source": [
    "# Series 정렬\n",
    "s = pd.Series( [10,40,50,20,70,60], index=['a', 'd', 'f', 'g', 'b', 'c'] )\n",
    "s = s.sort_index(ascending=False)   #()->오름차순 / (ascending=False)->내림차순\n",
    "s = s.sort_values()       #(ascending=False)->내림차순\n",
    "print(s)"
   ]
  },
  {
   "cell_type": "code",
   "execution_count": 28,
   "id": "d9da19fb-a76a-434f-977d-f5a5cca3c0c3",
   "metadata": {},
   "outputs": [
    {
     "name": "stdout",
     "output_type": "stream",
     "text": [
      "     D    C    A    B\n",
      "c    4    5   40  100\n",
      "a  300   10  200    2\n",
      "b   20  400    4   30\n",
      "     A    D    B    C\n",
      "b    4   20   30  400\n",
      "c   40    4  100    5\n",
      "a  200  300    2   10\n"
     ]
    }
   ],
   "source": [
    "# DataFrame 정렬\n",
    "df = pd.DataFrame( [[4, 5, 40, 100],\n",
    "                    [300, 10, 200, 2],\n",
    "                    [20, 400, 4, 30]], index=['c', 'a', 'b'], columns=['D', 'C', 'A', 'B'])\n",
    "print(df)\n",
    "df = df.sort_index()     #index 정렬\n",
    "df = df.sort_index(axis=0)\n",
    "df = df.sort_index(axis=1, ascending=False)   #column 정렬 & 내림차순\n",
    "\n",
    "df = df.sort_values(by='A', ascending = False)  #행끼리\n",
    "df = df.sort_values(by=['A','B'])\n",
    "\n",
    "df = df.sort_values(by='b', axis=1)        #열끼리\n",
    "print(df)"
   ]
  },
  {
   "cell_type": "code",
   "execution_count": 52,
   "id": "4b77e658-b4aa-4c2a-932e-bb842ed8f239",
   "metadata": {},
   "outputs": [
    {
     "name": "stdout",
     "output_type": "stream",
     "text": [
      "[[1, 2, 3], [4, 5, 6], [7, 8, 9]]\n",
      "9\n",
      "[[1, 2, 3], [4, 5, 6], [7, 8, 9]]\n",
      "[[1, 2, 3], [4, 5, 6]]\n",
      "[[1 2 3]\n",
      " [4 5 6]\n",
      " [7 8 9]]\n",
      "9\n",
      "[[1 2 3]\n",
      " [4 5 6]\n",
      " [7 8 9]]\n",
      "[[1 2 3]\n",
      " [4 5 6]]\n",
      "[[1 2]\n",
      " [4 5]]\n",
      "   0  1  2\n",
      "0  1  2  3\n",
      "1  4  5  6\n",
      "2  7  8  9\n",
      "9\n",
      "   0  1  2\n",
      "0  1  2  3\n",
      "1  4  5  6\n",
      "2  7  8  9\n",
      "   0  1  2\n",
      "0  1  2  3\n",
      "1  4  5  6\n"
     ]
    }
   ],
   "source": [
    "# 슬라이싱\n",
    "# .iloc           정수 인덱스\n",
    "# .loc            라벨 인덱스\n",
    "\n",
    "# list\n",
    "m = [ [1,2,3], [4,5,6], [7,8,9] ]\n",
    "print(m)\n",
    "print(m[2][2])\n",
    "print(m[:][:])\n",
    "print(m[:2][:2])\n",
    "#print(m[:2,:2])     #에러\n",
    "\n",
    "# Numpy\n",
    "n = np.array(m)\n",
    "print(n)\n",
    "print(n[2][2])\n",
    "print(n[:][:])\n",
    "print(n[:2][:2])\n",
    "print(n[:2,:2])   #넘파이에서는 가능 (리스트 불가능)\n",
    "\n",
    "# Pandas\n",
    "df = pd.DataFrame(n)\n",
    "print(df)\n",
    "print(df[2][2])    #컬럼에 이름이 없기 때문에 가능함.\n",
    "print(df[:][:])\n",
    "print(df[:2][:2])\n",
    "#print(df[:2,:2])   #에러"
   ]
  },
  {
   "cell_type": "code",
   "execution_count": 76,
   "id": "3dabbba2-d472-4f4d-9910-b008265499ef",
   "metadata": {},
   "outputs": [
    {
     "name": "stdout",
     "output_type": "stream",
     "text": [
      "    A   B   C   D\n",
      "0   1   2   3   4\n",
      "1   5   6   7   8\n",
      "2   9  10  11  12\n",
      "3  13  14  15  16\n",
      "4  17  18  19  20\n",
      "11\n",
      "    A   D\n",
      "0   1   4\n",
      "1   5   8\n",
      "2   9  12\n",
      "3  13  16\n",
      "4  17  20\n",
      "11\n",
      "11\n",
      "   A  B\n",
      "0  1  2\n",
      "1  5  6\n",
      "   A   C\n",
      "0  1   3\n",
      "2  9  11\n",
      "   A  B  C\n",
      "0  1  2  3\n",
      "1  5  6  7\n",
      "    D   C   B   A\n",
      "4  20  19  18  17\n",
      "3  16  15  14  13\n",
      "2  12  11  10   9\n",
      "1   8   7   6   5\n",
      "0   4   3   2   1\n"
     ]
    },
    {
     "name": "stderr",
     "output_type": "stream",
     "text": [
      "C:\\Users\\user\\AppData\\Local\\Temp\\ipykernel_6076\\4261437109.py:11: FutureWarning: Series.__getitem__ treating keys as positions is deprecated. In a future version, integer keys will always be treated as labels (consistent with DataFrame behavior). To access a value by position, use `ser.iloc[pos]`\n",
      "  print(df.iloc[2][2])\n"
     ]
    }
   ],
   "source": [
    "# iloc\n",
    "df = pd.DataFrame(np.arange(1, 21).reshape(5,4), columns=['A','B','C','D'])\n",
    "print(df)\n",
    "\n",
    "#print(df[2][2])        #에러 (컬럼 이름 있어서)\n",
    "print(df['C'][2])\n",
    "print(df[['A', 'D']])\n",
    "#print(df['A':'C'])     #에러\n",
    "#print(df[['A':'C']])   #에러\n",
    "\n",
    "print(df.iloc[2][2])\n",
    "print(df.iloc[2, 2])\n",
    "#print(df.iloc[2, 'C'])   #에러, iloc는 숫자밖에 못 줌! 이름(문자)X\n",
    "print(df.iloc[:2, :2])\n",
    "print(df.iloc[:3:2, :3:2])\n",
    "print(df.iloc[:2, :-1])\n",
    "print(df.iloc[::-1, ::-1])"
   ]
  },
  {
   "cell_type": "code",
   "execution_count": 92,
   "id": "92011080-0216-4ae5-8bfb-80c82ae1672c",
   "metadata": {},
   "outputs": [
    {
     "name": "stdout",
     "output_type": "stream",
     "text": [
      "    A   B   C   D\n",
      "0   1   2   3   4\n",
      "1   5   6   7   8\n",
      "2   9  10  11  12\n",
      "3  13  14  15  16\n",
      "4  17  18  19  20\n",
      "11\n",
      "   A   B   C\n",
      "0  1   2   3\n",
      "1  5   6   7\n",
      "2  9  10  11\n",
      "   A   B   C   D\n",
      "0  1   2   3   4\n",
      "1  5   6   7   8\n",
      "2  9  10  11  12\n",
      "   A  B  C  D\n",
      "0  1  2  3  4\n",
      "1  5  6  7  8\n",
      "    B   C   D\n",
      "1   6   7   8\n",
      "2  10  11  12\n",
      "3  14  15  16\n",
      "0     3\n",
      "1     7\n",
      "2    11\n",
      "3    15\n",
      "4    19\n",
      "Name: C, dtype: int32\n",
      "    B   D\n",
      "0   2   4\n",
      "1   6   8\n",
      "2  10  12\n",
      "3  14  16\n",
      "4  18  20\n",
      "    B   D\n",
      "0   2   4\n",
      "1   6   8\n",
      "2  10  12\n",
      "3  14  16\n",
      "4  18  20\n"
     ]
    }
   ],
   "source": [
    "# loc\n",
    "print(df)\n",
    "# print(df.loc[2,2])      #에러\n",
    "print(df.loc[2, 'C'])\n",
    "# print(df.loc[:2, :2])   #에러\n",
    "print(df.loc[:2, :'C']) \n",
    "\n",
    "print(df.loc[:2])\n",
    "print(df[:2])\n",
    "\n",
    "print(df.loc[1:3, 'B':'D'])\n",
    "print(df.loc[:, 'C'])\n",
    "print(df.loc[:, ['B','D']])\n",
    "print(df[['B','D']])"
   ]
  },
  {
   "cell_type": "code",
   "execution_count": 110,
   "id": "6b951fa6-ed3d-45de-a747-8da2b072f384",
   "metadata": {},
   "outputs": [
    {
     "name": "stdout",
     "output_type": "stream",
     "text": [
      "     A    B    C   D\n",
      "0   99    2    3   4\n",
      "1  100  101  102   8\n",
      "2    9   10   11  12\n",
      "3  200   14  201  16\n",
      "4   17   18   19  20\n"
     ]
    }
   ],
   "source": [
    "df = pd.DataFrame(np.arange(1,21).reshape(5,4), columns=['A','B','C','D'])\n",
    "df['E'] = [31,32,33,34,35]\n",
    "# df[5][:] = [90,91,92,93,94]        #에러\n",
    "# df.iloc[:, 5] = [40,41,42,43,44]   #에러\n",
    "# df.iloc[5, :] = [90,91,92,93,94]   #에러\n",
    "df.loc[5] = [90,91,92,93,94]\n",
    "df.loc[:, 'F'] = [40,41,42,43,44,45]\n",
    "\n",
    "df.loc[0,'A'] = 99\n",
    "df.loc[1, 'A':'C'] = [100,101,102]\n",
    "df.loc[3, ['A','C','E']] = [200,201,202]\n",
    "\n",
    "del(df['E'])\n",
    "\n",
    "# df.drop('F')     #에러\n",
    "df = df.drop('F', axis=1)\n",
    "# df.drop(5, axis=1)     #에러\n",
    "df = df.drop(5)\n",
    "\n",
    "print(df)"
   ]
  },
  {
   "cell_type": "code",
   "execution_count": 134,
   "id": "ba5a743a-1c23-4890-967e-6c5aed896215",
   "metadata": {},
   "outputs": [
    {
     "name": "stdout",
     "output_type": "stream",
     "text": [
      "   name  age        tel\n",
      "0   kim   20  1111-2222\n",
      "1   lee   30  2222-3333\n",
      "2  park   35  3333-4444\n",
      "3  jung   25  4444-5555\n",
      "4  hong   40  5555-6666\n",
      "jung\n",
      "   name  age\n",
      "2  park   35\n",
      "4  hong   40\n",
      "  name  age        tel\n",
      "0  kim   20  1111-2222\n",
      "   name  age        tel\n",
      "1   lee   30  2222-3333\n",
      "2  park   35  3333-4444\n",
      "3  jung   25  4444-5555\n",
      "0    kim\n",
      "1    lee\n",
      "Name: name, dtype: object\n"
     ]
    }
   ],
   "source": [
    "# Boolean Indexing\n",
    "df = pd.DataFrame(\n",
    "     [['kim', 20, '1111-2222'],\n",
    "      ['lee', 30, '2222-3333'],\n",
    "      ['park', 35, '3333-4444'],\n",
    "      ['jung', 25, '4444-5555'],\n",
    "      ['hong', 40, '5555-6666']], columns=['name','age','tel']\n",
    ")\n",
    "print(df)\n",
    "\n",
    "print(df.loc[3, 'name'])\n",
    "print(df.loc[df['age']>30, ['name','age']])\n",
    "print(df.loc[df['name'] == 'kim', :])\n",
    "print(df.loc[(df['age']>20) & (df['age']<40), 'name':'tel'])\n",
    "print(df.loc[[True, True, False, False, False], \"name\"])"
   ]
  },
  {
   "cell_type": "code",
   "execution_count": 162,
   "id": "f0f73177-dbe2-475e-a3a5-d583b42b6626",
   "metadata": {},
   "outputs": [
    {
     "name": "stdout",
     "output_type": "stream",
     "text": [
      "Series([], Name: address, dtype: object)\n",
      "Series([], Name: address, dtype: object)\n",
      "1     NaN\n",
      "2     NaN\n",
      "4    None\n",
      "Name: address, dtype: object\n",
      "   name  age        tel address\n",
      "0   kim   20  1111-2222      서울\n",
      "1   lee   30  2222-3333      서울\n",
      "2  park   35  3333-4444      서울\n",
      "3  jung   25  4444-5555      수원\n",
      "4  hong   40  5555-6666      서울\n"
     ]
    }
   ],
   "source": [
    "# 결측값 대체\n",
    "df['address'] = ['서울', np.nan, np.nan, '수원', None]\n",
    "\n",
    "print(df.loc[df['address'] == np.nan, 'address'])\n",
    "print(df.loc[df['address'] == None, 'address'])\n",
    "print(df.loc[df['address'].isnull(), 'address'])\n",
    "\n",
    "df.loc[df['address'].isnull(), 'address'] = '서울'\n",
    "\n",
    "df.loc[::2, 'address'] = ''\n",
    "df.loc[df['address'] == '', 'address'] = '서울'\n",
    "\n",
    "print(df)"
   ]
  },
  {
   "cell_type": "code",
   "execution_count": 192,
   "id": "b4cce8bb-beb9-4fe0-84cc-870797ae46fb",
   "metadata": {},
   "outputs": [
    {
     "name": "stdout",
     "output_type": "stream",
     "text": [
      "   name   age        tel\n",
      "0   kim  20.0  1111-2222\n",
      "1   lee  30.0  2222-3333\n",
      "2  park  35.0  3333-4444\n",
      "3  jung  25.0  4444-5555\n",
      "              0          1          2          3\n",
      "name        kim        lee       park       jung\n",
      "age        20.0       30.0       35.0       25.0\n",
      "tel   1111-2222  2222-3333  3333-4444  4444-5555\n"
     ]
    }
   ],
   "source": [
    "# 결측값 제거\n",
    "df = pd.DataFrame(\n",
    "     [['kim', 20, '1111-2222', '서울'],\n",
    "      ['lee', 30, '2222-3333', np.nan],\n",
    "      ['park', 35, '3333-4444', '수원'],\n",
    "      ['jung', 25, '4444-5555', np.nan],\n",
    "      ['hong', 40, '5555-6666', np.nan]], columns=['name','age','tel','address']\n",
    ")\n",
    "df.loc[5, :] = [np.nan, np.nan, np.nan, np.nan]\n",
    "\n",
    "# df.dropna(how='all', inplace=True)\n",
    "# df.dropna(how='any', inplace=True)\n",
    "\n",
    "df['income'] = [300, np.nan, 400, 500, np.nan, 600]\n",
    "df.fillna({'address':'서울'}, inplace=True)\n",
    "df.fillna({'income':np.mean(df['income'])}, inplace=True)\n",
    "\n",
    "df.drop([4,5], inplace=True)\n",
    "df.drop(['address', 'income'], axis=1, inplace=True)\n",
    "\n",
    "print(df)\n",
    "\n",
    "#print(df.T)\n",
    "print(df.transpose())         #전치행렬"
   ]
  },
  {
   "cell_type": "code",
   "execution_count": 264,
   "id": "550c03f1-19e8-4bae-9044-e8571ac1bf33",
   "metadata": {},
   "outputs": [
    {
     "name": "stdout",
     "output_type": "stream",
     "text": [
      "   name   kor   eng   mat\n",
      "0   kim  90.0  80.0  70.0\n",
      "1   lee  45.0   NaN  55.0\n",
      "2  park  76.0  77.0  83.0\n",
      "3  hong   NaN   NaN  77.0\n",
      "4  kang  35.0  58.0  52.0\n",
      "5  jang   NaN   NaN   NaN\n",
      "0.9926458576614517\n",
      "   name   kor   eng   mat\n",
      "0   kim  90.0  80.0  70.0\n",
      "1   lee  45.0   NaN  55.0\n",
      "2  park  76.0  77.0  83.0\n",
      "3  hong   NaN   NaN  77.0\n",
      "4  kang  35.0  58.0  52.0\n",
      "5  jang   NaN   NaN   NaN\n"
     ]
    }
   ],
   "source": [
    "# Pandas 함수\n",
    "df = pd.DataFrame(\n",
    "    [['kim', 90, 80, 70],\n",
    "     ['lee', 45, np.nan, 55],\n",
    "     ['park', 76, 77, 83],\n",
    "     ['hong', np.nan, np.nan, 77],\n",
    "     ['kang', 35, 58, 52],\n",
    "     ['jang', np.nan, np.nan, np.nan]], columns = ['name', 'kor', 'eng', 'mat']\n",
    ")    \n",
    "print(df)\n",
    "\n",
    "# print(df.count())\n",
    "# print(df.count(axis=1))\n",
    "\n",
    "# print(df.min())\n",
    "# print(df.loc[:, 'kor':'mat'].min(axis=1))\n",
    "# print(df.max())\n",
    "# print(df.loc[:, 'kor' : 'mat'].mean())\n",
    "# print(df.loc[:, 'kor' : 'mat'].mean(axis=1))\n",
    "\n",
    "# print(df.sum())\n",
    "# print(df.loc[:, 'kor' : 'mat'].sum(axis=1))\n",
    "\n",
    "# print(df.loc[:, 'kor' : 'mat'].median())    #중간값\n",
    "# print(df.loc[:, 'kor' : 'mat'].cumsum())    #누적합\n",
    "# print(df.loc[:, 'kor' : 'mat'].cumprod())\n",
    "# print(df.idxmax())            #최댓값 인덱스\n",
    "# print(df.idxmin())\n",
    "\n",
    "# print(df.loc[:, 'kor' : 'mat'].var())    #분산\n",
    "# print(df.loc[:, 'kor' : 'mat'].std())    #표준편차\n",
    "\n",
    "# df['tot'] = df.loc[:, 'kor' : 'mat'].sum(axis=1)\n",
    "# df['avg'] = df.loc[:, 'kor' : 'mat'].mean(axis=1)\n",
    "\n",
    "print(df['kor'].corr(df['eng']))\n",
    "#1 양의 상관관계\n",
    "#0 상관관계가 낮다\n",
    "#-1 음의 상관관계\n",
    "\n",
    "print(df)"
   ]
  },
  {
   "cell_type": "code",
   "execution_count": null,
   "id": "ad5a4359-8b74-4bf5-ba12-43478e5b930c",
   "metadata": {},
   "outputs": [],
   "source": []
  }
 ],
 "metadata": {
  "kernelspec": {
   "display_name": "Python 3 (ipykernel)",
   "language": "python",
   "name": "python3"
  },
  "language_info": {
   "codemirror_mode": {
    "name": "ipython",
    "version": 3
   },
   "file_extension": ".py",
   "mimetype": "text/x-python",
   "name": "python",
   "nbconvert_exporter": "python",
   "pygments_lexer": "ipython3",
   "version": "3.12.4"
  }
 },
 "nbformat": 4,
 "nbformat_minor": 5
}
