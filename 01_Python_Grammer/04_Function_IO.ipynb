{
 "cells": [
  {
   "cell_type": "markdown",
   "id": "0584da2b-0360-46d0-8001-0c6e4b271f39",
   "metadata": {},
   "source": [
    "# 함수와 입출력"
   ]
  },
  {
   "cell_type": "markdown",
   "id": "a237ca6a-8bde-4503-9ed1-e12a8bf861c3",
   "metadata": {},
   "source": [
    "## 함수의 구조"
   ]
  },
  {
   "cell_type": "code",
   "execution_count": 4,
   "id": "aa81e8e8-204b-467d-81a9-1f21be1eb15b",
   "metadata": {},
   "outputs": [],
   "source": [
    "def add(a, b):\n",
    "    return a + b"
   ]
  },
  {
   "cell_type": "code",
   "execution_count": 6,
   "id": "2a61f4fe-8ba8-459f-956e-bc1b1af2456f",
   "metadata": {},
   "outputs": [
    {
     "name": "stdout",
     "output_type": "stream",
     "text": [
      "7\n"
     ]
    }
   ],
   "source": [
    "a = 3\n",
    "b = 4\n",
    "c = add(a, b)\n",
    "print(c)"
   ]
  },
  {
   "cell_type": "markdown",
   "id": "b25cc552-b5d9-45e4-8ee5-03dc7c90e507",
   "metadata": {},
   "source": [
    "## 매개변수와 인수"
   ]
  },
  {
   "cell_type": "code",
   "execution_count": 11,
   "id": "43c4365e-85c7-45a1-a88b-5ec87c0c4852",
   "metadata": {},
   "outputs": [
    {
     "name": "stdout",
     "output_type": "stream",
     "text": [
      "7\n"
     ]
    }
   ],
   "source": [
    "def add(a, b):  # a, b는 매개변수\n",
    "    return a+b\n",
    "\n",
    "print(add(3, 4))  # 3, 4는 인수"
   ]
  },
  {
   "cell_type": "markdown",
   "id": "18bc5674-7557-4523-b38f-0226a6462fff",
   "metadata": {},
   "source": [
    "## 입력값과 리턴값에 따른 함수의 형태"
   ]
  },
  {
   "cell_type": "code",
   "execution_count": 25,
   "id": "b3424b78-1153-409d-8430-ddfe4d9d9d9a",
   "metadata": {},
   "outputs": [],
   "source": [
    "# 일반적인 함수\n",
    "def add1(a, b): \n",
    "    result = a + b \n",
    "    return result"
   ]
  },
  {
   "cell_type": "code",
   "execution_count": 29,
   "id": "be108b56-660f-4fcb-a234-02f1caf63674",
   "metadata": {},
   "outputs": [
    {
     "name": "stdout",
     "output_type": "stream",
     "text": [
      "7\n"
     ]
    }
   ],
   "source": [
    "c = add1(3, 4)\n",
    "print(c)"
   ]
  },
  {
   "cell_type": "code",
   "execution_count": 17,
   "id": "06c3da55-29aa-42fd-8d44-abaacdaf3561",
   "metadata": {},
   "outputs": [],
   "source": [
    "# 입력값이 없는 함수\n",
    "def say():\n",
    "    return 'Hi'"
   ]
  },
  {
   "cell_type": "code",
   "execution_count": 19,
   "id": "16fabda7-bda9-43e5-9fa0-86ee39355c5b",
   "metadata": {},
   "outputs": [
    {
     "data": {
      "text/plain": [
       "'Hi'"
      ]
     },
     "execution_count": 19,
     "metadata": {},
     "output_type": "execute_result"
    }
   ],
   "source": [
    "say()"
   ]
  },
  {
   "cell_type": "code",
   "execution_count": 39,
   "id": "14fcf0fa-12ca-4b57-9135-04370ea496fb",
   "metadata": {},
   "outputs": [],
   "source": [
    "# 리턴값이 없는 함수\n",
    "def add2(a, b):\n",
    "    print(\"%d, %d의 합은 %d입니다.\" % (a, b, a+b))"
   ]
  },
  {
   "cell_type": "code",
   "execution_count": 41,
   "id": "6aa846f0-f8de-474e-a62e-7de96cabb049",
   "metadata": {},
   "outputs": [
    {
     "name": "stdout",
     "output_type": "stream",
     "text": [
      "3, 4의 합은 7입니다.\n"
     ]
    }
   ],
   "source": [
    "add2(3, 4)"
   ]
  },
  {
   "cell_type": "code",
   "execution_count": 43,
   "id": "da36ef74-3ffe-4193-aa43-b6d424fdfef7",
   "metadata": {},
   "outputs": [
    {
     "name": "stdout",
     "output_type": "stream",
     "text": [
      "3, 4의 합은 7입니다.\n"
     ]
    }
   ],
   "source": [
    "c = add2(3,4)"
   ]
  },
  {
   "cell_type": "code",
   "execution_count": 47,
   "id": "0a38c9b5-2ee3-44e2-9dde-41f6263e0089",
   "metadata": {},
   "outputs": [
    {
     "name": "stdout",
     "output_type": "stream",
     "text": [
      "None\n"
     ]
    }
   ],
   "source": [
    "print(c)"
   ]
  },
  {
   "cell_type": "code",
   "execution_count": null,
   "id": "33c2d1b3-d427-4be2-8057-195040b74d23",
   "metadata": {},
   "outputs": [],
   "source": [
    "# 입력값도, 리턴값도 없는 함수"
   ]
  },
  {
   "cell_type": "code",
   "execution_count": 49,
   "id": "c1478779-c65e-4a63-b955-97ca3a782466",
   "metadata": {},
   "outputs": [],
   "source": [
    "def say2():\n",
    "    print('Hi')"
   ]
  },
  {
   "cell_type": "code",
   "execution_count": 51,
   "id": "1fc8c1d3-2522-4fd1-8302-370857cdef96",
   "metadata": {},
   "outputs": [
    {
     "name": "stdout",
     "output_type": "stream",
     "text": [
      "Hi\n"
     ]
    }
   ],
   "source": [
    "say2()"
   ]
  },
  {
   "cell_type": "code",
   "execution_count": 53,
   "id": "7aa2be59-8c9c-4d7b-9951-6ad6668145a5",
   "metadata": {},
   "outputs": [
    {
     "name": "stdout",
     "output_type": "stream",
     "text": [
      "Hi\n"
     ]
    }
   ],
   "source": [
    "d = say2()"
   ]
  },
  {
   "cell_type": "code",
   "execution_count": 55,
   "id": "76a4407b-cce2-4f4e-9bc8-c271174a3491",
   "metadata": {},
   "outputs": [
    {
     "name": "stdout",
     "output_type": "stream",
     "text": [
      "None\n"
     ]
    }
   ],
   "source": [
    "print(d)"
   ]
  },
  {
   "cell_type": "markdown",
   "id": "486ef847-6ea9-453b-8a65-86a8425c6ff0",
   "metadata": {},
   "source": [
    "## 매개변수를 지정하여 호출하기"
   ]
  },
  {
   "cell_type": "code",
   "execution_count": 58,
   "id": "656b62a1-cf76-423b-8c2d-7f9d22a559bb",
   "metadata": {},
   "outputs": [],
   "source": [
    "def sub(a,b):\n",
    "    return a-b"
   ]
  },
  {
   "cell_type": "code",
   "execution_count": 64,
   "id": "706a82a1-bb43-421a-a841-9a13d80da9f8",
   "metadata": {},
   "outputs": [
    {
     "name": "stdout",
     "output_type": "stream",
     "text": [
      "4\n"
     ]
    }
   ],
   "source": [
    "result = sub(a=7, b=3)\n",
    "print(result)"
   ]
  },
  {
   "cell_type": "code",
   "execution_count": 62,
   "id": "e3b5e974-3f09-4259-8f57-077c13296249",
   "metadata": {},
   "outputs": [
    {
     "name": "stdout",
     "output_type": "stream",
     "text": [
      "4\n"
     ]
    }
   ],
   "source": [
    "result = sub(b=3, a=7)\n",
    "print(result)"
   ]
  },
  {
   "cell_type": "code",
   "execution_count": 66,
   "id": "15433911-5aeb-4702-9d68-5110f543b4f6",
   "metadata": {},
   "outputs": [
    {
     "name": "stdout",
     "output_type": "stream",
     "text": [
      "-2\n"
     ]
    }
   ],
   "source": [
    "result = sub(b=5, a=3)\n",
    "print(result)"
   ]
  },
  {
   "cell_type": "markdown",
   "id": "3002a709-5fad-4930-9d4f-bbb6ed9aefdd",
   "metadata": {},
   "source": [
    "## 입력값이 몇 개가 될지 모를 때는 어떻게 해야 할까?"
   ]
  },
  {
   "cell_type": "code",
   "execution_count": 72,
   "id": "814bb325-1c8f-4cb5-b96e-ddbe7f3f3c8c",
   "metadata": {},
   "outputs": [],
   "source": [
    "# 사용자의 입력이 몇개든, 전부다 누적해서 더해주는 함수\n",
    "def add_many(*args):\n",
    "    result = 0\n",
    "    for i in args:\n",
    "        result += i\n",
    "    return result   "
   ]
  },
  {
   "cell_type": "code",
   "execution_count": 74,
   "id": "10cb3271-264f-4574-9aa2-65b1eb896898",
   "metadata": {},
   "outputs": [
    {
     "data": {
      "text/plain": [
       "36"
      ]
     },
     "execution_count": 74,
     "metadata": {},
     "output_type": "execute_result"
    }
   ],
   "source": [
    "add_many(1,2,3,4,5,6,7,8)"
   ]
  },
  {
   "cell_type": "code",
   "execution_count": null,
   "id": "a55b22f4-c55c-4f98-8904-91da200e6dee",
   "metadata": {},
   "outputs": [],
   "source": [
    "# Quiz\n",
    "사용자에게 다수의 입력을 받아서 옵션에 따라\n",
    "누적곱 또는 누적합을 출력하는 함수를 만들어라"
   ]
  },
  {
   "cell_type": "code",
   "execution_count": 82,
   "id": "3210174f-51c9-4858-ab55-8514b591cd62",
   "metadata": {},
   "outputs": [],
   "source": [
    "def add_many(a, *args):\n",
    "    if a == \"누적곱\":\n",
    "        result = 1\n",
    "        for i in args:\n",
    "            result *= i\n",
    "    elif a == \"누적합\":\n",
    "        result = 0\n",
    "        for i in args:\n",
    "            result += i\n",
    "    return result"
   ]
  },
  {
   "cell_type": "code",
   "execution_count": 78,
   "id": "f329153d-29d1-479a-9ac6-db4aa136d25c",
   "metadata": {},
   "outputs": [
    {
     "data": {
      "text/plain": [
       "120"
      ]
     },
     "execution_count": 78,
     "metadata": {},
     "output_type": "execute_result"
    }
   ],
   "source": [
    "add_many(\"누적곱\", 1,2,3,4,5)"
   ]
  },
  {
   "cell_type": "code",
   "execution_count": 80,
   "id": "a5273963-300b-4ce8-839d-e1ae23f252f0",
   "metadata": {},
   "outputs": [
    {
     "data": {
      "text/plain": [
       "15"
      ]
     },
     "execution_count": 80,
     "metadata": {},
     "output_type": "execute_result"
    }
   ],
   "source": [
    "add_many(\"누적합\", 1,2,3,4,5)"
   ]
  },
  {
   "cell_type": "markdown",
   "id": "bc94702c-82ea-4d0e-81fb-3f0a6129e7a0",
   "metadata": {},
   "source": [
    "## 키워드 매개변수, kwargs"
   ]
  },
  {
   "cell_type": "code",
   "execution_count": 87,
   "id": "07f6bf0c-0e1b-4d44-96c1-544fed55c897",
   "metadata": {},
   "outputs": [],
   "source": [
    "def print_kwargs(**kwargs):\n",
    "    print(kwargs)"
   ]
  },
  {
   "cell_type": "code",
   "execution_count": 89,
   "id": "89e13bcc-c164-4e2a-93d0-dc31bae3d837",
   "metadata": {},
   "outputs": [
    {
     "name": "stdout",
     "output_type": "stream",
     "text": [
      "{'a': 1}\n"
     ]
    }
   ],
   "source": [
    "print_kwargs(a=1)"
   ]
  },
  {
   "cell_type": "code",
   "execution_count": 91,
   "id": "971e5842-cb64-48e2-83cc-a4c2e8a6cc5d",
   "metadata": {},
   "outputs": [
    {
     "name": "stdout",
     "output_type": "stream",
     "text": [
      "{'name': 'a', 'age': 20}\n"
     ]
    }
   ],
   "source": [
    "print_kwargs(name='a', age=20)"
   ]
  },
  {
   "cell_type": "markdown",
   "id": "de1e37d7-bd16-429c-b52c-038b58edf569",
   "metadata": {},
   "source": [
    "## 함수의 리턴값은 언제나 하나이다."
   ]
  },
  {
   "cell_type": "code",
   "execution_count": 94,
   "id": "b06e0dd7-4e3f-4d83-81b7-75c0773d47b9",
   "metadata": {},
   "outputs": [],
   "source": [
    "def add_and_mul(a,b):\n",
    "    return a+b, a*b"
   ]
  },
  {
   "cell_type": "code",
   "execution_count": 96,
   "id": "db2a22f4-ea8d-4fcc-a6b9-dd3cf673e92e",
   "metadata": {},
   "outputs": [
    {
     "data": {
      "text/plain": [
       "(7, 12)"
      ]
     },
     "execution_count": 96,
     "metadata": {},
     "output_type": "execute_result"
    }
   ],
   "source": [
    "add_and_mul(3,4)"
   ]
  },
  {
   "cell_type": "code",
   "execution_count": 100,
   "id": "9a740b74-e769-445b-a282-2e1c3d0a8cc7",
   "metadata": {},
   "outputs": [
    {
     "data": {
      "text/plain": [
       "tuple"
      ]
     },
     "execution_count": 100,
     "metadata": {},
     "output_type": "execute_result"
    }
   ],
   "source": [
    "type(add_and_mul(3,4)) #튜플 하나!"
   ]
  },
  {
   "cell_type": "code",
   "execution_count": 102,
   "id": "07c8dc04-e408-4ca9-ad3e-cac0b8da3f1a",
   "metadata": {},
   "outputs": [
    {
     "data": {
      "text/plain": [
       "7"
      ]
     },
     "execution_count": 102,
     "metadata": {},
     "output_type": "execute_result"
    }
   ],
   "source": [
    "result1, result2 = add_and_mul(3,4)\n",
    "result1"
   ]
  },
  {
   "cell_type": "code",
   "execution_count": 104,
   "id": "d3c91d93-80ba-4e9a-8471-efdaf4ca4ba1",
   "metadata": {},
   "outputs": [
    {
     "data": {
      "text/plain": [
       "12"
      ]
     },
     "execution_count": 104,
     "metadata": {},
     "output_type": "execute_result"
    }
   ],
   "source": [
    "result2"
   ]
  },
  {
   "cell_type": "code",
   "execution_count": 106,
   "id": "2bb199e9-eb53-4637-aabb-dbde4a438e7b",
   "metadata": {},
   "outputs": [],
   "source": [
    "def add_and_mul(a,b):\n",
    "    return a+b\n",
    "    return a*b"
   ]
  },
  {
   "cell_type": "code",
   "execution_count": 108,
   "id": "96ba3fc6-f72a-4150-aa8f-08f7d1ad8bee",
   "metadata": {},
   "outputs": [
    {
     "data": {
      "text/plain": [
       "5"
      ]
     },
     "execution_count": 108,
     "metadata": {},
     "output_type": "execute_result"
    }
   ],
   "source": [
    "result = add_and_mul(2,3)\n",
    "result"
   ]
  },
  {
   "cell_type": "markdown",
   "id": "656f630d-43c7-4097-9d78-44eaad55027a",
   "metadata": {},
   "source": [
    "## return으로 함수 이탈하기"
   ]
  },
  {
   "cell_type": "code",
   "execution_count": 111,
   "id": "ce949bec-6632-475f-bf3f-93d32b3652e6",
   "metadata": {},
   "outputs": [],
   "source": [
    "def say_nick(nick):\n",
    "    if nick == '바보':\n",
    "        return '옥상으로 따라와'\n",
    "    print(f'나의 별명은 {nick}입니다.')"
   ]
  },
  {
   "cell_type": "code",
   "execution_count": 113,
   "id": "e3d2ec1d-8495-4e4b-9c89-046043106c69",
   "metadata": {},
   "outputs": [
    {
     "name": "stdout",
     "output_type": "stream",
     "text": [
      "나의 별명은 야호입니다.\n"
     ]
    }
   ],
   "source": [
    "say_nick('야호')"
   ]
  },
  {
   "cell_type": "code",
   "execution_count": 115,
   "id": "8b266dfa-bb38-427b-9491-2be6ccb64988",
   "metadata": {},
   "outputs": [
    {
     "data": {
      "text/plain": [
       "'옥상으로 따라와'"
      ]
     },
     "execution_count": 115,
     "metadata": {},
     "output_type": "execute_result"
    }
   ],
   "source": [
    "say_nick('바보')"
   ]
  },
  {
   "cell_type": "markdown",
   "id": "0ec34883-acad-40dd-959b-05d32031f8ef",
   "metadata": {},
   "source": [
    "## 매개변수에 초깃값 미리 설정하기"
   ]
  },
  {
   "cell_type": "code",
   "execution_count": 118,
   "id": "69de06fb-8e6c-4ca6-b434-90d214baf330",
   "metadata": {},
   "outputs": [],
   "source": [
    "def say_myself(name, age, man=True):\n",
    "    print(f'나의 이름은 {name}입니다.')\n",
    "    print(f'나이는 {age}입니다.')\n",
    "    if man:\n",
    "        print('남자입니다.')\n",
    "    else:\n",
    "        print('여자입니다.')"
   ]
  },
  {
   "cell_type": "code",
   "execution_count": 120,
   "id": "0d4262f7-288d-4838-a013-269bda2196d3",
   "metadata": {},
   "outputs": [
    {
     "name": "stdout",
     "output_type": "stream",
     "text": [
      "나의 이름은 김은채입니다.\n",
      "나이는 22입니다.\n",
      "여자입니다.\n"
     ]
    }
   ],
   "source": [
    "say_myself('김은채', 22, False)"
   ]
  },
  {
   "cell_type": "markdown",
   "id": "de35f6f6-d830-4e77-bea9-337c115eceee",
   "metadata": {},
   "source": [
    "## 함수 안에서 선언한 변수의 효력 범위"
   ]
  },
  {
   "cell_type": "code",
   "execution_count": 123,
   "id": "373e779c-1cfa-413b-bf40-eaa77ce651d7",
   "metadata": {},
   "outputs": [],
   "source": [
    "a = 1\n",
    "def vartest(a):\n",
    "    a += 1"
   ]
  },
  {
   "cell_type": "code",
   "execution_count": 125,
   "id": "879bbf1b-30df-4a7d-b0ef-6332c32ca0ff",
   "metadata": {},
   "outputs": [
    {
     "data": {
      "text/plain": [
       "1"
      ]
     },
     "execution_count": 125,
     "metadata": {},
     "output_type": "execute_result"
    }
   ],
   "source": [
    "a"
   ]
  },
  {
   "cell_type": "code",
   "execution_count": 127,
   "id": "9ea21847-8f1f-43e3-83ac-857f2c77843f",
   "metadata": {},
   "outputs": [],
   "source": [
    "vartest(a)"
   ]
  },
  {
   "cell_type": "code",
   "execution_count": 129,
   "id": "5a684ff4-13e0-4078-8a40-597d701281bd",
   "metadata": {},
   "outputs": [
    {
     "name": "stdout",
     "output_type": "stream",
     "text": [
      "1\n"
     ]
    }
   ],
   "source": [
    "print(a)"
   ]
  },
  {
   "cell_type": "markdown",
   "id": "d823636f-886b-424a-a452-6cbe52ccafb7",
   "metadata": {},
   "source": [
    "## 함수 안에서 함수 밖의 변수를 변경하는 방법"
   ]
  },
  {
   "cell_type": "code",
   "execution_count": 134,
   "id": "919e8d10-f879-455c-96e5-e25b395ebd9f",
   "metadata": {},
   "outputs": [
    {
     "name": "stdout",
     "output_type": "stream",
     "text": [
      "2\n"
     ]
    }
   ],
   "source": [
    "# 1. return 사용하기\n",
    "a = 1 \n",
    "def vartest(a): \n",
    "    a = a +1 \n",
    "    return a\n",
    "\n",
    "a = vartest(a) \n",
    "print(a)"
   ]
  },
  {
   "cell_type": "code",
   "execution_count": 136,
   "id": "5c086c07-c1a9-4d5d-9ad5-667e5a938790",
   "metadata": {},
   "outputs": [
    {
     "name": "stdout",
     "output_type": "stream",
     "text": [
      "2\n"
     ]
    }
   ],
   "source": [
    "# 2. global 명령어 사용하기\n",
    "a = 1\n",
    "def vartest():\n",
    "    global a\n",
    "    a += 1\n",
    "vartest()\n",
    "print(a)"
   ]
  },
  {
   "cell_type": "markdown",
   "id": "bcc04611-4f54-4817-b50d-5d04fca9b609",
   "metadata": {},
   "source": [
    "## lambda 예약어\n",
    "* 1회성 함수"
   ]
  },
  {
   "cell_type": "code",
   "execution_count": 139,
   "id": "3a4884ae-1876-4f18-8ce7-ec20f6b9eb7c",
   "metadata": {},
   "outputs": [
    {
     "name": "stdout",
     "output_type": "stream",
     "text": [
      "7\n"
     ]
    }
   ],
   "source": [
    "def add(a, b):\n",
    "    return a+b\n",
    "result = add(3,4)\n",
    "print(result)"
   ]
  },
  {
   "cell_type": "code",
   "execution_count": 143,
   "id": "f0bfaf41-01bc-4401-92b2-a6e82076a24b",
   "metadata": {},
   "outputs": [
    {
     "data": {
      "text/plain": [
       "7"
      ]
     },
     "execution_count": 143,
     "metadata": {},
     "output_type": "execute_result"
    }
   ],
   "source": [
    "add = lambda a, b: a+b\n",
    "add(3,4)"
   ]
  },
  {
   "cell_type": "markdown",
   "id": "798f4cf8-97d3-49d5-b31d-6ef9a51f6207",
   "metadata": {},
   "source": [
    "## 파일 읽고 쓰기"
   ]
  },
  {
   "cell_type": "code",
   "execution_count": 147,
   "id": "3371f175-9552-448c-b371-f2c7cc0bc13f",
   "metadata": {},
   "outputs": [
    {
     "data": {
      "text/plain": [
       "\u001b[1;31mSignature:\u001b[0m\n",
       "\u001b[0mopen\u001b[0m\u001b[1;33m(\u001b[0m\u001b[1;33m\n",
       "\u001b[0m    \u001b[0mfile\u001b[0m\u001b[1;33m,\u001b[0m\u001b[1;33m\n",
       "\u001b[0m    \u001b[0mmode\u001b[0m\u001b[1;33m=\u001b[0m\u001b[1;34m'r'\u001b[0m\u001b[1;33m,\u001b[0m\u001b[1;33m\n",
       "\u001b[0m    \u001b[0mbuffering\u001b[0m\u001b[1;33m=\u001b[0m\u001b[1;33m-\u001b[0m\u001b[1;36m1\u001b[0m\u001b[1;33m,\u001b[0m\u001b[1;33m\n",
       "\u001b[0m    \u001b[0mencoding\u001b[0m\u001b[1;33m=\u001b[0m\u001b[1;32mNone\u001b[0m\u001b[1;33m,\u001b[0m\u001b[1;33m\n",
       "\u001b[0m    \u001b[0merrors\u001b[0m\u001b[1;33m=\u001b[0m\u001b[1;32mNone\u001b[0m\u001b[1;33m,\u001b[0m\u001b[1;33m\n",
       "\u001b[0m    \u001b[0mnewline\u001b[0m\u001b[1;33m=\u001b[0m\u001b[1;32mNone\u001b[0m\u001b[1;33m,\u001b[0m\u001b[1;33m\n",
       "\u001b[0m    \u001b[0mclosefd\u001b[0m\u001b[1;33m=\u001b[0m\u001b[1;32mTrue\u001b[0m\u001b[1;33m,\u001b[0m\u001b[1;33m\n",
       "\u001b[0m    \u001b[0mopener\u001b[0m\u001b[1;33m=\u001b[0m\u001b[1;32mNone\u001b[0m\u001b[1;33m,\u001b[0m\u001b[1;33m\n",
       "\u001b[0m\u001b[1;33m)\u001b[0m\u001b[1;33m\u001b[0m\u001b[1;33m\u001b[0m\u001b[0m\n",
       "\u001b[1;31mDocstring:\u001b[0m\n",
       "Open file and return a stream.  Raise OSError upon failure.\n",
       "\n",
       "file is either a text or byte string giving the name (and the path\n",
       "if the file isn't in the current working directory) of the file to\n",
       "be opened or an integer file descriptor of the file to be\n",
       "wrapped. (If a file descriptor is given, it is closed when the\n",
       "returned I/O object is closed, unless closefd is set to False.)\n",
       "\n",
       "mode is an optional string that specifies the mode in which the file\n",
       "is opened. It defaults to 'r' which means open for reading in text\n",
       "mode.  Other common values are 'w' for writing (truncating the file if\n",
       "it already exists), 'x' for creating and writing to a new file, and\n",
       "'a' for appending (which on some Unix systems, means that all writes\n",
       "append to the end of the file regardless of the current seek position).\n",
       "In text mode, if encoding is not specified the encoding used is platform\n",
       "dependent: locale.getencoding() is called to get the current locale encoding.\n",
       "(For reading and writing raw bytes use binary mode and leave encoding\n",
       "unspecified.) The available modes are:\n",
       "\n",
       "========= ===============================================================\n",
       "Character Meaning\n",
       "--------- ---------------------------------------------------------------\n",
       "'r'       open for reading (default)\n",
       "'w'       open for writing, truncating the file first\n",
       "'x'       create a new file and open it for writing\n",
       "'a'       open for writing, appending to the end of the file if it exists\n",
       "'b'       binary mode\n",
       "'t'       text mode (default)\n",
       "'+'       open a disk file for updating (reading and writing)\n",
       "========= ===============================================================\n",
       "\n",
       "The default mode is 'rt' (open for reading text). For binary random\n",
       "access, the mode 'w+b' opens and truncates the file to 0 bytes, while\n",
       "'r+b' opens the file without truncation. The 'x' mode implies 'w' and\n",
       "raises an `FileExistsError` if the file already exists.\n",
       "\n",
       "Python distinguishes between files opened in binary and text modes,\n",
       "even when the underlying operating system doesn't. Files opened in\n",
       "binary mode (appending 'b' to the mode argument) return contents as\n",
       "bytes objects without any decoding. In text mode (the default, or when\n",
       "'t' is appended to the mode argument), the contents of the file are\n",
       "returned as strings, the bytes having been first decoded using a\n",
       "platform-dependent encoding or using the specified encoding if given.\n",
       "\n",
       "buffering is an optional integer used to set the buffering policy.\n",
       "Pass 0 to switch buffering off (only allowed in binary mode), 1 to select\n",
       "line buffering (only usable in text mode), and an integer > 1 to indicate\n",
       "the size of a fixed-size chunk buffer.  When no buffering argument is\n",
       "given, the default buffering policy works as follows:\n",
       "\n",
       "* Binary files are buffered in fixed-size chunks; the size of the buffer\n",
       "  is chosen using a heuristic trying to determine the underlying device's\n",
       "  \"block size\" and falling back on `io.DEFAULT_BUFFER_SIZE`.\n",
       "  On many systems, the buffer will typically be 4096 or 8192 bytes long.\n",
       "\n",
       "* \"Interactive\" text files (files for which isatty() returns True)\n",
       "  use line buffering.  Other text files use the policy described above\n",
       "  for binary files.\n",
       "\n",
       "encoding is the name of the encoding used to decode or encode the\n",
       "file. This should only be used in text mode. The default encoding is\n",
       "platform dependent, but any encoding supported by Python can be\n",
       "passed.  See the codecs module for the list of supported encodings.\n",
       "\n",
       "errors is an optional string that specifies how encoding errors are to\n",
       "be handled---this argument should not be used in binary mode. Pass\n",
       "'strict' to raise a ValueError exception if there is an encoding error\n",
       "(the default of None has the same effect), or pass 'ignore' to ignore\n",
       "errors. (Note that ignoring encoding errors can lead to data loss.)\n",
       "See the documentation for codecs.register or run 'help(codecs.Codec)'\n",
       "for a list of the permitted encoding error strings.\n",
       "\n",
       "newline controls how universal newlines works (it only applies to text\n",
       "mode). It can be None, '', '\\n', '\\r', and '\\r\\n'.  It works as\n",
       "follows:\n",
       "\n",
       "* On input, if newline is None, universal newlines mode is\n",
       "  enabled. Lines in the input can end in '\\n', '\\r', or '\\r\\n', and\n",
       "  these are translated into '\\n' before being returned to the\n",
       "  caller. If it is '', universal newline mode is enabled, but line\n",
       "  endings are returned to the caller untranslated. If it has any of\n",
       "  the other legal values, input lines are only terminated by the given\n",
       "  string, and the line ending is returned to the caller untranslated.\n",
       "\n",
       "* On output, if newline is None, any '\\n' characters written are\n",
       "  translated to the system default line separator, os.linesep. If\n",
       "  newline is '' or '\\n', no translation takes place. If newline is any\n",
       "  of the other legal values, any '\\n' characters written are translated\n",
       "  to the given string.\n",
       "\n",
       "If closefd is False, the underlying file descriptor will be kept open\n",
       "when the file is closed. This does not work when a file name is given\n",
       "and must be True in that case.\n",
       "\n",
       "A custom opener can be used by passing a callable as *opener*. The\n",
       "underlying file descriptor for the file object is then obtained by\n",
       "calling *opener* with (*file*, *flags*). *opener* must return an open\n",
       "file descriptor (passing os.open as *opener* results in functionality\n",
       "similar to passing None).\n",
       "\n",
       "open() returns a file object whose type depends on the mode, and\n",
       "through which the standard file operations such as reading and writing\n",
       "are performed. When open() is used to open a file in a text mode ('w',\n",
       "'r', 'wt', 'rt', etc.), it returns a TextIOWrapper. When used to open\n",
       "a file in a binary mode, the returned class varies: in read binary\n",
       "mode, it returns a BufferedReader; in write binary and append binary\n",
       "modes, it returns a BufferedWriter, and in read/write mode, it returns\n",
       "a BufferedRandom.\n",
       "\n",
       "It is also possible to use a string or bytearray as a file for both\n",
       "reading and writing. For strings StringIO can be used like a file\n",
       "opened in a text mode, and for bytes a BytesIO can be used like a file\n",
       "opened in a binary mode.\n",
       "\u001b[1;31mType:\u001b[0m      function"
      ]
     },
     "metadata": {},
     "output_type": "display_data"
    }
   ],
   "source": [
    "open?"
   ]
  },
  {
   "cell_type": "code",
   "execution_count": null,
   "id": "8a8c0bb9-f6e6-45e2-84be-7819db852b15",
   "metadata": {},
   "outputs": [],
   "source": [
    "f = open('output/test.txt', 'w')\n",
    "f.close()\n",
    "# ->output파일에 test.txt 생성"
   ]
  },
  {
   "cell_type": "code",
   "execution_count": null,
   "id": "f5c574df-ea6b-4a0e-9f4a-81a3f60f4efa",
   "metadata": {},
   "outputs": [],
   "source": [
    "f = open('output/test.txt', 'w')\n",
    "for i in range(1, 11):\n",
    "    f.write(f'{i}번째 줄입니다.\\n')\n",
    "f.close()\n",
    "#내용입력, \\n은 줄바꿈"
   ]
  },
  {
   "cell_type": "code",
   "execution_count": null,
   "id": "70a2e25a-1cae-4ebd-8bfb-e7723b251e03",
   "metadata": {},
   "outputs": [],
   "source": [
    "# readline 함수 이용하기\n",
    "f = open('output/test.txt', 'r')\n",
    "line = f.readline()\n",
    "pirnt(line)\n",
    "f.close()\n",
    "#첫번째 줄을 출력해줌"
   ]
  },
  {
   "cell_type": "code",
   "execution_count": null,
   "id": "757481ff-7398-478e-971b-6ef2075df00e",
   "metadata": {},
   "outputs": [],
   "source": [
    "f = open('output/test.txt', 'r')\n",
    "for i in range(5):\n",
    "    line = f.readline()\n",
    "    pirnt(line)\n",
    "f.close()\n",
    "#5개 줄 보여줌"
   ]
  },
  {
   "cell_type": "code",
   "execution_count": null,
   "id": "71d816b4-f067-428c-a6d9-124d0c0b15c7",
   "metadata": {},
   "outputs": [],
   "source": [
    "#readlines 함수\n",
    "f = open('output/test.txt', 'r')\n",
    "lines = f.readlines()\n",
    "print(lines)\n",
    "#하나의 리스트로 묶여서 모든 줄이 출력"
   ]
  },
  {
   "cell_type": "code",
   "execution_count": null,
   "id": "7bca0745-8627-4fd3-ad70-35ba70652f75",
   "metadata": {},
   "outputs": [],
   "source": [
    "f = open('output/test.txt', 'r')\n",
    "lines = f.readlines()\n",
    "for line in lines:\n",
    "    print(line)\n",
    "print(lines)\n",
    "#모든 줄 출력 (한 줄에 한 문장)"
   ]
  },
  {
   "cell_type": "code",
   "execution_count": null,
   "id": "b9b1ea77-79de-4d46-b124-a4de9ffe842d",
   "metadata": {},
   "outputs": [],
   "source": [
    "#Quiz\n",
    "메모장을 읽어올 때 줄바꿈 1개를 없애보세요.\n",
    "f = open('output/test.txt', 'r')\n",
    "lines = f.readlines()\n",
    "for line in lines : \n",
    "    line = line.strip() #줄 끝의 줄 바꿈 문자를 제거한다.\n",
    "    print(line)\n",
    "f.close()"
   ]
  },
  {
   "cell_type": "code",
   "execution_count": null,
   "id": "5729c89f-ce20-42b8-af6c-0988751dc31b",
   "metadata": {},
   "outputs": [],
   "source": [
    "# read함수 사용하기\n",
    "f = open('output/test.txt', 'r')\n",
    "data = f.read()\n",
    "print(type(data))\n",
    "print(data)\n",
    "f.close()\n",
    "# 이렇게 불러오기도 함"
   ]
  },
  {
   "cell_type": "markdown",
   "id": "822cd1c5-6833-41a6-b0ef-4c715ce6daa2",
   "metadata": {},
   "source": [
    "## 파일에 새로운 내용 추가하기"
   ]
  },
  {
   "cell_type": "code",
   "execution_count": null,
   "id": "99a7bb07-623c-4077-904d-0fc207ec9bd2",
   "metadata": {},
   "outputs": [],
   "source": [
    "f = open('output/test.txt', 'a')\n",
    "for i in range(11, 21):\n",
    "    data = f'{i}번째 줄입니다.\\n'\n",
    "    f.write(data)\n",
    "f.close()\n",
    "# 새로운 내용 생성"
   ]
  },
  {
   "cell_type": "markdown",
   "id": "c66a0f3d-fec6-411e-90bd-9b8abb9505a6",
   "metadata": {},
   "source": [
    "## with문"
   ]
  },
  {
   "cell_type": "code",
   "execution_count": null,
   "id": "4e6b2648-87e4-4989-a487-943f2ccc6d5c",
   "metadata": {},
   "outputs": [],
   "source": [
    "f = open(\"foo.txt\", 'w')\n",
    "f.write(\"Life is too short, you need python\")\n",
    "f.close()"
   ]
  },
  {
   "cell_type": "code",
   "execution_count": null,
   "id": "03669edc-1676-4e0b-8bb4-ce1c41d83926",
   "metadata": {},
   "outputs": [],
   "source": [
    "with open(\"foo.txt\", \"w\") as f:\n",
    "    f.write(\"Your leg is too short\")\n",
    "#with문은 f.close()를 안 써도 됨"
   ]
  },
  {
   "cell_type": "code",
   "execution_count": null,
   "id": "1a604b4b-d07c-40db-a377-75e479b72505",
   "metadata": {},
   "outputs": [],
   "source": []
  },
  {
   "cell_type": "code",
   "execution_count": null,
   "id": "d7cd2409-4481-4622-bd47-8f0d2d85623d",
   "metadata": {},
   "outputs": [],
   "source": []
  },
  {
   "cell_type": "code",
   "execution_count": null,
   "id": "529f7bf2-3c66-4138-bd05-fabade6cd49a",
   "metadata": {},
   "outputs": [],
   "source": []
  },
  {
   "cell_type": "code",
   "execution_count": null,
   "id": "af98ecc9-a98f-4c6c-9947-873479768f32",
   "metadata": {},
   "outputs": [],
   "source": []
  },
  {
   "cell_type": "code",
   "execution_count": null,
   "id": "15c3f3ae-d23c-4b4f-9068-5dde1626eb38",
   "metadata": {},
   "outputs": [],
   "source": []
  },
  {
   "cell_type": "code",
   "execution_count": null,
   "id": "01f64e89-d510-48c3-9cdc-a1fdd17b76c0",
   "metadata": {},
   "outputs": [],
   "source": []
  }
 ],
 "metadata": {
  "kernelspec": {
   "display_name": "Python 3 (ipykernel)",
   "language": "python",
   "name": "python3"
  },
  "language_info": {
   "codemirror_mode": {
    "name": "ipython",
    "version": 3
   },
   "file_extension": ".py",
   "mimetype": "text/x-python",
   "name": "python",
   "nbconvert_exporter": "python",
   "pygments_lexer": "ipython3",
   "version": "3.12.4"
  }
 },
 "nbformat": 4,
 "nbformat_minor": 5
}
