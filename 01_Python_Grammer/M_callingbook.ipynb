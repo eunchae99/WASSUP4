{
 "cells": [
  {
   "cell_type": "markdown",
   "id": "1aa9dd3f-51fe-45f0-a754-cd072b0af8af",
   "metadata": {},
   "source": [
    "## 1. 전화번호 프로그램 만들기\n",
    "* 홍길동 010-123-4567\n",
    "* 기능1: 연락처 추가\n",
    "* 기능2: 연락처 전체 보기\n",
    "* 기능3: 검색, 이름을 입력받아서 전화번호 조회\n",
    "* 기능4: 수정, 이름을 입력받아서 전화번호 입력수정\n",
    "* 기능5: 삭제, 이름을 입력받아서 삭제\n",
    "* 기능6: 프로그램 종료"
   ]
  },
  {
   "cell_type": "code",
   "execution_count": 103,
   "id": "a1cacde5-c0fb-42d4-bba1-120311c561bc",
   "metadata": {},
   "outputs": [
    {
     "name": "stdin",
     "output_type": "stream",
     "text": [
      "이름:  홍길동\n",
      "전화번호:  010-123-4567\n"
     ]
    },
    {
     "name": "stdout",
     "output_type": "stream",
     "text": [
      "홍길동님 연락처가 추가 되었습니다.\n",
      "전화번호는 010-123-4567 입니다.\n"
     ]
    }
   ],
   "source": [
    "phone = {}\n",
    "user = input(\"이름: \")\n",
    "num = input(\"전화번호: \")\n",
    "phone[user] = num\n",
    "print(f\"{user}님 연락처가 추가 되었습니다.\")\n",
    "print(f\"전화번호는 {num} 입니다.\")"
   ]
  },
  {
   "cell_type": "code",
   "execution_count": 105,
   "id": "304f9749-1029-4730-8557-8e04cbe212c7",
   "metadata": {},
   "outputs": [
    {
     "name": "stdout",
     "output_type": "stream",
     "text": [
      "연락처 전체 보기:  {'홍길동': '010-123-4567'}\n"
     ]
    }
   ],
   "source": [
    "print(\"연락처 전체 보기: \", phone)"
   ]
  },
  {
   "cell_type": "code",
   "execution_count": 107,
   "id": "57d12fa8-9bb6-45e2-a1d8-02b8aaf2da5b",
   "metadata": {},
   "outputs": [
    {
     "name": "stdin",
     "output_type": "stream",
     "text": [
      "이름:  홍길동\n"
     ]
    },
    {
     "name": "stdout",
     "output_type": "stream",
     "text": [
      "홍길동님 전화번호는 010-123-4567 입니다.\n"
     ]
    }
   ],
   "source": [
    "user = input(\"이름: \")\n",
    "print(f\"{user}님 전화번호는 {num} 입니다.\")"
   ]
  },
  {
   "cell_type": "code",
   "execution_count": 109,
   "id": "ff060fa6-b261-4df2-921c-067b35ae57c5",
   "metadata": {},
   "outputs": [
    {
     "name": "stdin",
     "output_type": "stream",
     "text": [
      "이름:  홍길동\n"
     ]
    },
    {
     "name": "stdout",
     "output_type": "stream",
     "text": [
      "현재 홍길동님의 전화번호는 010-123-4567 입니다.\n"
     ]
    },
    {
     "name": "stdin",
     "output_type": "stream",
     "text": [
      "수정할 전화번호:  010-123-9999\n"
     ]
    },
    {
     "name": "stdout",
     "output_type": "stream",
     "text": [
      "홍길동님의 수정된 전화번호는 010-123-9999 입니다.\n",
      "전체 연락처:  {'홍길동': '010-123-9999'}\n"
     ]
    }
   ],
   "source": [
    "user = input(\"이름: \")\n",
    "print(f\"현재 {user}님의 전화번호는 {num} 입니다.\")\n",
    "new_num = input(\"수정할 전화번호: \")\n",
    "phone[user] = new_num\n",
    "print(f\"{user}님의 수정된 전화번호는 {new_num} 입니다.\")\n",
    "print(\"전체 연락처: \", phone)"
   ]
  },
  {
   "cell_type": "code",
   "execution_count": 115,
   "id": "fd3b059a-655f-4a75-817c-b45338347caf",
   "metadata": {},
   "outputs": [
    {
     "name": "stdin",
     "output_type": "stream",
     "text": [
      "삭제할 연락처의 이름:  홍길동\n"
     ]
    },
    {
     "name": "stdout",
     "output_type": "stream",
     "text": [
      "홍길동님의 연락처 삭제완료\n",
      "전체 연락처:  {}\n"
     ]
    }
   ],
   "source": [
    "user = input(\"삭제할 연락처의 이름: \")\n",
    "if user in phone:\n",
    "    del phone[user]\n",
    "print(f\"{user}님의 연락처 삭제완료\")\n",
    "print(\"전체 연락처: \", phone)"
   ]
  },
  {
   "cell_type": "code",
   "execution_count": null,
   "id": "fca2f579-bfd9-43cd-a2e2-e83e08a407c8",
   "metadata": {},
   "outputs": [],
   "source": []
  }
 ],
 "metadata": {
  "kernelspec": {
   "display_name": "Python 3 (ipykernel)",
   "language": "python",
   "name": "python3"
  },
  "language_info": {
   "codemirror_mode": {
    "name": "ipython",
    "version": 3
   },
   "file_extension": ".py",
   "mimetype": "text/x-python",
   "name": "python",
   "nbconvert_exporter": "python",
   "pygments_lexer": "ipython3",
   "version": "3.12.4"
  }
 },
 "nbformat": 4,
 "nbformat_minor": 5
}
