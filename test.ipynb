{
 "cells": [
  {
   "cell_type": "markdown",
   "id": "ed0c749d-373c-4b41-ba5e-a60bb1fd1ff6",
   "metadata": {},
   "source": [
    "# hello world"
   ]
  },
  {
   "cell_type": "code",
   "execution_count": 6,
   "id": "4bd5711a-d42e-494d-bac2-8ad5f36ca5f7",
   "metadata": {},
   "outputs": [
    {
     "name": "stdout",
     "output_type": "stream",
     "text": [
      "hello world\n"
     ]
    }
   ],
   "source": [
    "# 안녕\n",
    "print (\"hello world\")"
   ]
  }
 ],
 "metadata": {
  "kernelspec": {
   "display_name": "Python 3 (ipykernel)",
   "language": "python",
   "name": "python3"
  },
  "language_info": {
   "codemirror_mode": {
    "name": "ipython",
    "version": 3
   },
   "file_extension": ".py",
   "mimetype": "text/x-python",
   "name": "python",
   "nbconvert_exporter": "python",
   "pygments_lexer": "ipython3",
   "version": "3.12.4"
  }
 },
 "nbformat": 4,
 "nbformat_minor": 5
}
